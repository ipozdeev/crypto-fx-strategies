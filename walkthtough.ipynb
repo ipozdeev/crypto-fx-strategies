{
 "cells": [
  {
   "cell_type": "code",
   "execution_count": 1,
   "id": "1a513540",
   "metadata": {},
   "outputs": [],
   "source": [
    "import pandas as pd\n",
    "import datetime\n",
    "import matplotlib.pyplot as plt\n",
    "from matplotlib.dates import YearLocator, MonthLocator, DateFormatter\n",
    "import seaborn as sns\n",
    "\n",
    "from foolbox.econometrics.misc import descriptives\n",
    "from foolbox.backtesting.api import rank_sort\n",
    "from textables.tables import TexTable\n",
    "from ip_visuals import set_style_paper\n",
    "\n",
    "from src.datafeed_.kraken.downstream import get_funding_rate"
   ]
  },
  {
   "cell_type": "code",
   "execution_count": 2,
   "id": "6ac41790",
   "metadata": {},
   "outputs": [],
   "source": [
    "# carry is the negative of the relative funding rate, ~(spot / fwd - 1)\n",
    "data_f = get_funding_rate()\n",
    "\n",
    "carry = data_f \\\n",
    "    .query(\"rate == 'relative'\").drop(\"rate\", axis=1) \\\n",
    "    .set_index(\"timestamp\") \\\n",
    "    .mul(-1)"
   ]
  },
  {
   "cell_type": "code",
   "execution_count": 3,
   "id": "413a8cae",
   "metadata": {},
   "outputs": [
    {
     "name": "stdout",
     "output_type": "stream",
     "text": [
      "asset           xbt          bch          ltc          eth          xrp\n",
      "mean      -2.416275    -4.358917    -1.553522    -4.732787    -6.930109\n",
      "sterr      0.731245     1.320791     1.200882     0.891056     0.967573\n",
      "tstat     -3.304330    -3.300233    -1.293651    -5.311439    -7.162361\n",
      "median    -1.542867    -5.752180    -2.076256    -4.541236    -5.337544\n",
      "std        0.311591     0.625363     0.509556     0.410873     0.497303\n",
      "dstd       0.237598     0.385289     0.323799     0.289206     0.387650\n",
      "q95       18.709770    41.870876    39.033422    25.222442    24.716475\n",
      "q05      -26.946227   -42.012506   -35.724730   -33.641758   -45.705933\n",
      "skew      -0.021777     1.137821     0.939809     0.528775    -0.045320\n",
      "kurt       6.909457     7.111516     6.355470     7.371987     6.103074\n",
      "sharpe    -7.754646    -6.970213    -3.048774   -11.518855   -13.935376\n",
      "ac1        0.771741     0.739144     0.807591     0.750875     0.717572\n",
      "count   7129.000000  7129.000000  7129.000000  7129.000000  7129.000000\n",
      "maxdd     11.758337    21.452777    14.172469    19.267142    22.557561\n"
     ]
    }
   ],
   "source": [
    "# print descriptives (some are meaningless)\n",
    "# there are 6 4-hour periods per day\n",
    "ann = 365 * 6\n",
    "carry_d = descriptives(carry, ann=ann, scl=100, cov_lags=30)\n",
    "print(carry_d)"
   ]
  },
  {
   "cell_type": "code",
   "execution_count": 6,
   "id": "391b162d",
   "metadata": {},
   "outputs": [
    {
     "data": {
      "text/plain": [
       "<AxesSubplot:xlabel='asset'>"
      ]
     },
     "execution_count": 6,
     "metadata": {},
     "output_type": "execute_result"
    },
    {
     "data": {
      "image/png": "[encoded data removed]",
      "text/plain": [
       "<Figure size 432x288 with 1 Axes>"
      ]
     },
     "metadata": {
      "needs_background": "light"
     },
     "output_type": "display_data"
    }
   ],
   "source": [
    "# plot\n",
    "sns.barplot(data=carry * ann * 100)"
   ]
  },
  {
   "cell_type": "code",
   "execution_count": null,
   "id": "6703af70",
   "metadata": {},
   "outputs": [],
   "source": [
    "# cryptocurrency returns\n"
   ]
  }
 ],
 "metadata": {
  "kernelspec": {
   "display_name": "crypto-env",
   "language": "python",
   "name": "crypto-env"
  },
  "language_info": {
   "codemirror_mode": {
    "name": "ipython",
    "version": 3
   },
   "file_extension": ".py",
   "mimetype": "text/x-python",
   "name": "python",
   "nbconvert_exporter": "python",
   "pygments_lexer": "ipython3",
   "version": "3.9.7"
  }
 },
 "nbformat": 4,
 "nbformat_minor": 5
}
