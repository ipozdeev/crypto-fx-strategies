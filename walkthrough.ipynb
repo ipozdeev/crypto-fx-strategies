{
 "cells": [
  {
   "cell_type": "code",
   "execution_count": 1,
   "id": "1a513540",
   "metadata": {},
   "outputs": [],
   "source": [
    "import pandas as pd\n",
    "import seaborn as sns\n",
    "\n",
    "from foolbox.econometrics.misc import descriptives\n",
    "\n",
    "from src.setup import *\n",
    "\n",
    "from src.datafeed_.kraken.downstream import get_funding_rate"
   ]
  },
  {
   "cell_type": "code",
   "execution_count": 4,
   "id": "6ac41790",
   "metadata": {},
   "outputs": [],
   "source": [
    "# carry is the negative of the relative funding rate, ~(spot / fwd - 1)\n",
    "data_f = get_funding_rate()\n",
    "\n",
    "carry = data_f \\\n",
    "    .query(\"rate == 'relative'\").drop(\"rate\", axis=1) \\\n",
    "    .set_index(\"timestamp\") \\\n",
    "    .mul(-1)\n",
    "\n",
    "# there are 6 4-hour periods per day\n",
    "ann = 365 * 6"
   ]
  },
  {
   "cell_type": "code",
   "execution_count": 5,
   "id": "391b162d",
   "metadata": {},
   "outputs": [
    {
     "data": {
      "text/plain": [
       "<AxesSubplot:xlabel='asset'>"
      ]
     },
     "execution_count": 5,
     "metadata": {},
     "output_type": "execute_result"
    },
    {
     "data": {
      "image/png": "[encoded data removed]",
      "text/plain": [
       "<Figure size 432x288 with 1 Axes>"
      ]
     },
     "metadata": {
      "needs_background": "light"
     },
     "output_type": "display_data"
    }
   ],
   "source": [
    "# plot\n",
    "sns.barplot(data=carry * ann * 100)"
   ]
  },
  {
   "cell_type": "code",
   "execution_count": 6,
   "id": "413a8cae",
   "metadata": {},
   "outputs": [
    {
     "name": "stdout",
     "output_type": "stream",
     "text": [
      "asset           xbt          bch          ltc          eth          xrp\n",
      "mean      -2.414034    -4.359907    -1.551790    -4.729721    -6.926105\n",
      "sterr      0.730872     1.320048     1.200223     0.890605     0.967100\n",
      "tstat     -3.302948    -3.302841    -1.292919    -5.310685    -7.161725\n",
      "median    -1.542001    -5.748419    -2.064332    -4.536662    -5.331266\n",
      "std        0.311516     0.625189     0.509416     0.410767     0.497179\n",
      "dstd       0.237580     0.385188     0.323799     0.289204     0.387627\n",
      "q95       18.703203    41.857106    39.021695    25.202153    24.707732\n",
      "q05      -26.945856   -42.010217   -35.715460   -33.624275   -45.654242\n",
      "skew      -0.022200     1.138234     0.939842     0.528422    -0.045819\n",
      "kurt       6.913481     7.117259     6.360254     7.376503     6.107087\n",
      "sharpe    -7.749319    -6.973738    -3.046215   -11.514354   -13.930797\n",
      "ac1        0.771727     0.739142     0.807590     0.750871     0.717570\n",
      "count   7133.000000  7133.000000  7133.000000  7133.000000  7133.000000\n",
      "maxdd     11.758337    21.463964    14.172469    19.267142    22.557561\n"
     ]
    }
   ],
   "source": [
    "# print descriptives (some are meaningless)\n",
    "carry_d = descriptives(carry, ann=ann, scl=100, cov_lags=30)\n",
    "print(carry_d)"
   ]
  },
  {
   "cell_type": "code",
   "execution_count": null,
   "id": "6703af70",
   "metadata": {},
   "outputs": [],
   "source": [
    "# cryptocurrency returns\n"
   ]
  }
 ],
 "metadata": {
  "kernelspec": {
   "display_name": "cryptoenv",
   "language": "python",
   "name": "cryptoenv"
  },
  "language_info": {
   "codemirror_mode": {
    "name": "ipython",
    "version": 3
   },
   "file_extension": ".py",
   "mimetype": "text/x-python",
   "name": "python",
   "nbconvert_exporter": "python",
   "pygments_lexer": "ipython3",
   "version": "3.8.10"
  }
 },
 "nbformat": 4,
 "nbformat_minor": 5
}
