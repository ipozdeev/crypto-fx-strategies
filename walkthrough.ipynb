{
 "cells": [
  {
   "cell_type": "markdown",
   "id": "496fa0b8",
   "metadata": {},
   "source": [
    "# carry trade in cryptocurrency space"
   ]
  },
  {
   "cell_type": "markdown",
   "id": "01afcd68-f267-4258-a8d3-821bd627ef52",
   "metadata": {},
   "source": [
    "I investigate if the simple carry trade strategy is implementable in the cryptocurrency space and provide instructions and fully replicable code to replicate my findings; using data from the Kraken exchange, I show that sorting cryptocurrencies on the analogue of the fiat interest rate results in a statistically and economically meaningful excess returns and Sharpe ratios; my finding thus adds another asset to the universe of those where the carry trade anomaly is pronounced."
   ]
  },
  {
   "cell_type": "markdown",
   "id": "a936631d",
   "metadata": {},
   "source": [
    "- [introduction](#introduction)\n",
    "- [assumptions](#assumptions)\n",
    "- [carry?](#carry?)\n",
    "- [how/what to trade](#how/what-to-trade)\n",
    "- [return calculation](#return-calculation)\n",
    "    - [long](#long)\n",
    "    - [short](#short)\n",
    "    - [long-short](#long-short)\n",
    "- [results](#results)\n",
    "    - [imports and parameters](#imports-and-parameters)\n",
    "    - [data](#data)\n",
    "        - [spot price](#spot-price)\n",
    "        - [perpetual futures price](#perpetual-futures-price)\n",
    "        - [funding rates](#funding-rates)\n",
    "    - [carry](#carry)\n",
    "    - [portfolio construction](#portfolio-construction)\n",
    "    - [excess returns](#excess-returns)\n",
    "    - [carry trade performance](#carry-trade-performance)"
   ]
  },
  {
   "cell_type": "markdown",
   "id": "7579e019",
   "metadata": {},
   "source": [
    "## introduction\n",
    "Cryptocurrencies are quite rapidly becoming a fully-fledged investable asset. One can debate about the lack of fundamental value, questionable incentives of issuers and end users, uncertain regulatory future etc. &mdash; but as long as there is supply and demand, an open market, derivative products and sufficient liquidity, Bitcoin and its peers are just as assety as stocks, bonds and commodity products.\n",
    "\n",
    "Existence of a derivatives market, specifically futures, calls forth the concept of carry and provides a way to quantify it. In this short piece, I am using perpetual swaps, funding rates and spot prices from the cryptocurrency exchange Kraken to construct a simple long-short carry trade strategy on the set of five most liquid cryprocurrencies and investigate its properties. "
   ]
  },
  {
   "cell_type": "markdown",
   "id": "041cc2df-85b7-4e28-a500-b880a09dde15",
   "metadata": {},
   "source": [
    "## literature\n",
    "As of the latest commit, the only relevant work on the same topic is [\"Crypto Carry\"](https://dx.doi.org/10.2139/ssrn.3774118), which documents return predictability of the funding rate in the cross-section of 51 coins listed on the Huobi Exchange and a Sharpe ratio of the corresponding long-short strategy of 1.21. However, the authors are silent about the methodology of return computations. Our contribution &mdash; without pretending to be original &mdash; is to provide a fully transparent and replicable open source research on the existence of carry trade on the cryptocurrency markets."
   ]
  },
  {
   "cell_type": "markdown",
   "id": "5d6abd00",
   "metadata": {},
   "source": [
    "## assumptions\n",
    "1. USD is the currency of consumption;\n",
    "1. trading takes place on Kraken;\n",
    "1. investors can trade at mid prices;\n",
    "1. investors do not move the market;\n",
    "1. costs of setting up a crypto wallet and depositing/withdrawing liquidity are zero;\n",
    "1. spot selling is at zero additional cost in terms of money and time.\n",
    "\n",
    "Assumptions 1-3 are boring; assumption 4 is violated the more, the **larger** the trading volume [*TODO: references about trade sizes?*], and assumption 5 is violated the more, the **smaller** the trading volume; assumption 6 is violated regardless.\n",
    "\n",
    "With these assumptions in place, I can answer the question whether the carry trade is there but not whether it is certainly economically profitable to execute. Still fun."
   ]
  },
  {
   "cell_type": "markdown",
   "id": "35d61284",
   "metadata": {},
   "source": [
    "## carry?\n",
    "\"Carry trade\" is a strategy for an investor who hopes that the spot price does not move over the investment horizon. It is constructed by taking long forward positions in assets with high, and short &mdash; in those with low \"carry\". The \"carry\" is the difference between the currently observed spot and futures prices (expressed as a percentage of the former), and is related to the opportunity costs and the costs of holding (\"carrying\") the asset. In the case of the cryptocurrency perpetual contracts, the funding rate is a related concept, and we will be using it instead of the very noisy price difference for the signal construction and subsequent sorting purposes. More about the funding rates follows."
   ]
  },
  {
   "cell_type": "markdown",
   "id": "02ca61fc",
   "metadata": {},
   "source": [
    "## how/what to trade\n",
    "The most liquid contracts to implement strategies with are the so-called [perpetual futures](https://support.kraken.com/hc/en-us/articles/360022835911-Inverse-crypto-collateral-perpetual-contract-specifications): these can be thought of as 4-hour swaps that are automatically rolled over earning what is called the [funding rate](https://blog.kraken.com/post/3075/quick-primer-on-funding-rates/https://blog.kraken.com/post/3075/quick-primer-on-funding-rates/). The latter is not dissimilar to the interest earned by the holder of a long ForEx position: longs pay shorts a certain amount which is determined based on the difference between the recent futures and spot prices (remember the carry concept?). If the futures has been traded too high relative to the spot, the funding rate becomes high also, incentivising market participants to take short positions (to be able to earn this high rate) and thus driving the futures price back down. \n",
    "\n",
    "Probably because financial intermediaries shun away from clearing  transactions involving fiat and cryptocurrencies, there are no familiar analogues to USDRUB, AUDUSD etc; it is not common to put USD as collateral to trade futures and realize PnL in dollars. Two alternatives exist: linear futures with stablecoins as the counter currency (such as Binance futures on ETHUSDT) and inverse futures margined in cryptocurrency (such as Kraken futures on ETHUSD). \n",
    "\n",
    "The former are the more familiar contracts as far as the specifications and PnL calculation are concerned, but require to purchase the countercurrency coins first, such as the Tether (USDT) or USD coin (USDC) -- two of the so-called stablecoins. A standard trade would go as follows:\n",
    "1. buy USDT for USD on the spot market;\n",
    "1. use USDT in the margin account to collateralize a position in ETHUSDT, BTCUSDT etc.;\n",
    "1. realize PnL in USDT;\n",
    "1. sell USDT for USD to consume.\n",
    "\n",
    "An obvious disadvantage is the additional USD-USDT risk.\n",
    "\n",
    "Inverse crypto-collateral futures are essentialy linear futures on the inverse of the pair. They seem to be more cost-efficient and do not involved a third currency, but contain implicit leverage for an investor with consumption denominated in the fiat currency (details later). A standard trade would go as follows:\n",
    "1. buy the contract margin cryptocurrency for USD on the spot market;\n",
    "1. use it to collateralize a position in the futures on the same cryptocurrency;\n",
    "1. realize PnL in the cryptocurrency;\n",
    "1. sell the cryptocurrency for USD to consume.\n",
    "\n",
    "In what follows, I will use the inverse futures."
   ]
  },
  {
   "cell_type": "markdown",
   "id": "112b05fa",
   "metadata": {},
   "source": [
    "## return calculation\n",
    "I use the following conventions:\n",
    "\n",
    "* $S$ : spot exchange rate, denominated in USD;\n",
    "* $F$ : futures rate, denominated in USD;\n",
    "* $q$ : absolute funding rate, in coins per contract;\n",
    "* $N_i$ : number of contracts of side $i, i \\in (l, s)$ for (long, short);\n",
    "* $r$ : net return, in fractions of 1, such as 0.1 for 10%\n",
    "\n",
    "At time $t$ we start with 1 USD. Since the contracts are coin-margined, we need to convert this 1 USD into coins at rate $S_t$ and use it as collateral for all positions we will open. On most exchanges one contract is worth 1 USD and hence represents $\\frac{1}{F_t}$ coins at inception.\n",
    "\n",
    "**Note that in the empyrical part of this piece we do not reinvest the proceeds, starting each period with 1 dollar to collateralize the positions.**"
   ]
  },
  {
   "cell_type": "markdown",
   "id": "55778cef",
   "metadata": {},
   "source": [
    "### long\n",
    "\n",
    "Being long $N_l$ inverse futures at rate $F_t$ is essentially being short USD at rate $\\frac{1}{F_t}$, hence the payoff at time $t+1$ is $\\left( \\frac{1}{F_t} - \\frac{1}{F_{t+1}} \\right)$ coins. So, at $t+1$ we have a total of $N_l \\left( \\frac{1}{F_t} - \\frac{1}{F_{t+1}}\\right)$ coins in trading profit plus $\\frac{1}{S_t}$ coins in the collateral account, all of which can be converted back at the prevailing rate for the total USD profit of:\n",
    "\\begin{equation*}\n",
    "    N_l \\left( \\frac{1}{F_t} - \\frac{1}{F_{t+1}}\\right)S_{t+1} + \\frac{S_{t+1}}{S_t}.\n",
    "\\end{equation*}\n",
    "Now, assuming that $S \\approx F$ and using $r = \\frac{S_{t+1}}{S_t} - 1$, the above amount is equal to:\n",
    "\\begin{equation}\n",
    "    1 + r(N_l + 1)\n",
    "    \\label{gross_ret_simplified}\\tag{1}\n",
    "\\end{equation}\n",
    "Since we started with 1 USD, this is also the gross return on our investment. Behold the implicit leverage: if we are long (the obvious minimum of) 1 contract, our return is twice the spot return! \n",
    "\n",
    "The final thing to take account of is the funding rate: being long, we pay the funding rate of $q_t$ coins per contract (note that this is the \"absolute\" funding rate, not the relative counterpart displayed at the front end of the exchanges). The exact gross return formula for a long position becomes:\n",
    "\\begin{equation}\n",
    "    N_l \\left( \\frac{1}{F_t} - \\frac{1}{F_{t+1}} - q_t \\right) S_{t+1} + \n",
    "    \\frac{S_{t+1}}{S_t}.\n",
    "\\end{equation}\n"
   ]
  },
  {
   "cell_type": "markdown",
   "id": "b90a3d93",
   "metadata": {},
   "source": [
    "### short\n",
    "\n",
    "Being short $N_s$ inverse futures at rate $F_t$ is essentially being long USD at rate $\\frac{1}{F_t}$. Similar considerations lead to the following equivalent of eq. [1](#mjx-eqn-gross_ret_simplified):\n",
    "\\begin{equation}\n",
    "    1 + r(1 - N_s).\n",
    "\\end{equation}\n",
    "Curiously, a zero-leverage short position of 1 contract *cannot grow or drop* in value in USD terms! If the coin price falls, we have more coins, which are worth less, and also the collateral account loses USD -- these forces cancel each other out. To be able to lose or earn USD, leverage is needed.\n",
    "\n",
    "Before we proceed, here is the exact gross return formula for a short position:\n",
    "\\begin{equation}\n",
    "    N_s \\left( \\frac{1}{F_{t+1}} - \\frac{1}{F_t} + q_t \\right) S_{t+1} + \n",
    "    \\frac{S_{t+1}}{S_t}.\n",
    "\\end{equation}"
   ]
  },
  {
   "cell_type": "markdown",
   "id": "da822e0b",
   "metadata": {},
   "source": [
    "### long-short\n",
    "\n",
    "\n",
    "In a long-short portfolio, to make the long leg have the same leverage as the short, we can set $N_l=1$ and $N_s=3$, resulting in a multiplier of 2 on each. Since one contract is worth 1 USD, and we start with 1 USD in the collateral account, we have to open a total of 4 USD worth of contracts having 1 USD to collateralize them. Most exchanges would allow for much higher ratios.\n",
    "\n",
    "As an example, imagine that the price of the coins in the long and short leg increases by 15\\% and 5\\% respectively: the portfolio return in this case (disregarding the tiny differences between $F$ and $S$ as well the funding rates) is $2(0.15 - 0.05)=20\\%$."
   ]
  },
  {
   "cell_type": "markdown",
   "id": "ff311c60",
   "metadata": {},
   "source": [
    "## results"
   ]
  },
  {
   "cell_type": "markdown",
   "id": "8b1df06a-e755-4fb2-886f-149296ae28ea",
   "metadata": {},
   "source": [
    "### imports and parameters"
   ]
  },
  {
   "cell_type": "code",
   "execution_count": 1,
   "id": "1a513540",
   "metadata": {},
   "outputs": [],
   "source": [
    "import pandas as pd\n",
    "import numpy as np\n",
    "import matplotlib.pyplot as plt\n",
    "import seaborn as sns\n",
    "from matplotlib.dates import YearLocator, MonthLocator, DateFormatter\n",
    "\n",
    "from foolbox.econometrics.misc import descriptives\n",
    "from foolbox.backtesting.sorting import rank_sort\n",
    "\n",
    "from src.config import *\n",
    "\n",
    "from src.datafeed_.kraken.downstream import (get_funding_rates, \n",
    "                                             get_spot, \n",
    "                                             get_perpetual)"
   ]
  },
  {
   "cell_type": "code",
   "execution_count": 2,
   "id": "ac18d04d",
   "metadata": {},
   "outputs": [],
   "source": [
    "# pandas display settings\n",
    "pd.set_option(\"display.precision\", 2)\n",
    "\n",
    "# parameters\n",
    "t_hold = 1  # holding period, in multiples of a 4-hour period\n",
    "ann = 365 * 6  # there are 6 4-hour periods per day\n",
    "legsize = 2  # number of assets in the long and short leg of an HML portfolio\n",
    "signal_lookback = 6 * 7  # 7 days lookback to compute carry signal\n",
    "\n",
    "def format_dataframe(df_: pd.DataFrame, tail=True):\n",
    "    \"\"\"A little formatter helper.\"\"\"\n",
    "    if tail:\n",
    "        return format_dataframe(df_.tail(), tail=False)\n",
    "    if df_.columns.nlevels > 1:\n",
    "        col_key = (\"timestamp\", \"\")\n",
    "    else:\n",
    "        col_key = \"timestamp\"\n",
    "    res_ = df_.reset_index()\\\n",
    "        .style.format(formatter={col_key: lambda x: x.strftime(\"%Y-%m-%d %H:%M\")})\\\n",
    "        .hide_index()\n",
    "    return res_"
   ]
  },
  {
   "cell_type": "markdown",
   "id": "5967ca8c-e65a-49a9-92fb-389fe7124213",
   "metadata": {},
   "source": [
    "### data\n",
    "All data is from Kraken, snapped at 4 hour intervals starting at 00:00."
   ]
  },
  {
   "cell_type": "markdown",
   "id": "19646d89-226e-4b9b-aabc-b42912bea6bd",
   "metadata": {
    "tags": []
   },
   "source": [
    "#### spot price\n",
    "Let's take a look at the spot prices going through the roof."
   ]
  },
  {
   "cell_type": "code",
   "execution_count": 3,
   "id": "f4c36589-2cdc-4c1e-8ad0-e292b2357745",
   "metadata": {},
   "outputs": [
    {
     "data": {
      "text/html": [
       "<style type=\"text/css\">\n",
       "</style>\n",
       "<table id=\"T_c2b2e_\">\n",
       "  <thead>\n",
       "    <tr>\n",
       "      <th class=\"col_heading level0 col0\" >timestamp</th>\n",
       "      <th class=\"col_heading level0 col1\" >bch</th>\n",
       "      <th class=\"col_heading level0 col2\" >eth</th>\n",
       "      <th class=\"col_heading level0 col3\" >ltc</th>\n",
       "      <th class=\"col_heading level0 col4\" >xbt</th>\n",
       "      <th class=\"col_heading level0 col5\" >xrp</th>\n",
       "    </tr>\n",
       "  </thead>\n",
       "  <tbody>\n",
       "    <tr>\n",
       "      <td id=\"T_c2b2e_row0_col0\" class=\"data row0 col0\" >2023-03-31 08:00</td>\n",
       "      <td id=\"T_c2b2e_row0_col1\" class=\"data row0 col1\" >121.03</td>\n",
       "      <td id=\"T_c2b2e_row0_col2\" class=\"data row0 col2\" >1794.94</td>\n",
       "      <td id=\"T_c2b2e_row0_col3\" class=\"data row0 col3\" >88.24</td>\n",
       "      <td id=\"T_c2b2e_row0_col4\" class=\"data row0 col4\" >nan</td>\n",
       "      <td id=\"T_c2b2e_row0_col5\" class=\"data row0 col5\" >nan</td>\n",
       "    </tr>\n",
       "    <tr>\n",
       "      <td id=\"T_c2b2e_row1_col0\" class=\"data row1 col0\" >2023-03-31 12:00</td>\n",
       "      <td id=\"T_c2b2e_row1_col1\" class=\"data row1 col1\" >122.07</td>\n",
       "      <td id=\"T_c2b2e_row1_col2\" class=\"data row1 col2\" >1794.54</td>\n",
       "      <td id=\"T_c2b2e_row1_col3\" class=\"data row1 col3\" >88.52</td>\n",
       "      <td id=\"T_c2b2e_row1_col4\" class=\"data row1 col4\" >nan</td>\n",
       "      <td id=\"T_c2b2e_row1_col5\" class=\"data row1 col5\" >nan</td>\n",
       "    </tr>\n",
       "    <tr>\n",
       "      <td id=\"T_c2b2e_row2_col0\" class=\"data row2 col0\" >2023-03-31 16:00</td>\n",
       "      <td id=\"T_c2b2e_row2_col1\" class=\"data row2 col1\" >123.56</td>\n",
       "      <td id=\"T_c2b2e_row2_col2\" class=\"data row2 col2\" >1830.49</td>\n",
       "      <td id=\"T_c2b2e_row2_col3\" class=\"data row2 col3\" >89.53</td>\n",
       "      <td id=\"T_c2b2e_row2_col4\" class=\"data row2 col4\" >nan</td>\n",
       "      <td id=\"T_c2b2e_row2_col5\" class=\"data row2 col5\" >nan</td>\n",
       "    </tr>\n",
       "    <tr>\n",
       "      <td id=\"T_c2b2e_row3_col0\" class=\"data row3 col0\" >2023-03-31 20:00</td>\n",
       "      <td id=\"T_c2b2e_row3_col1\" class=\"data row3 col1\" >124.15</td>\n",
       "      <td id=\"T_c2b2e_row3_col2\" class=\"data row3 col2\" >1827.26</td>\n",
       "      <td id=\"T_c2b2e_row3_col3\" class=\"data row3 col3\" >89.74</td>\n",
       "      <td id=\"T_c2b2e_row3_col4\" class=\"data row3 col4\" >nan</td>\n",
       "      <td id=\"T_c2b2e_row3_col5\" class=\"data row3 col5\" >nan</td>\n",
       "    </tr>\n",
       "    <tr>\n",
       "      <td id=\"T_c2b2e_row4_col0\" class=\"data row4 col0\" >2023-04-01 00:00</td>\n",
       "      <td id=\"T_c2b2e_row4_col1\" class=\"data row4 col1\" >123.91</td>\n",
       "      <td id=\"T_c2b2e_row4_col2\" class=\"data row4 col2\" >1822.10</td>\n",
       "      <td id=\"T_c2b2e_row4_col3\" class=\"data row4 col3\" >89.62</td>\n",
       "      <td id=\"T_c2b2e_row4_col4\" class=\"data row4 col4\" >nan</td>\n",
       "      <td id=\"T_c2b2e_row4_col5\" class=\"data row4 col5\" >nan</td>\n",
       "    </tr>\n",
       "  </tbody>\n",
       "</table>\n"
      ],
      "text/plain": [
       "<pandas.io.formats.style.Styler at 0x7f8a105e94e0>"
      ]
     },
     "execution_count": 3,
     "metadata": {},
     "output_type": "execute_result"
    }
   ],
   "source": [
    "# spot price\n",
    "data_s = get_spot()\\\n",
    "    .resample(\"4H\", closed=\"right\", label=\"right\").last()\\\n",
    "    .loc[\"2018-08\":]\n",
    "format_dataframe(data_s)"
   ]
  },
  {
   "cell_type": "code",
   "execution_count": 4,
   "id": "39e3434e",
   "metadata": {},
   "outputs": [
    {
     "data": {
      "image/png": "[encoded data removed]",
      "text/plain": [
       "<Figure size 432x288 with 1 Axes>"
      ]
     },
     "metadata": {
      "needs_background": "light"
     },
     "output_type": "display_data"
    }
   ],
   "source": [
    "# plot spot price index\n",
    "spot_idx = data_s.div(data_s.iloc[0], axis=1)\n",
    "ax = sns.lineplot(data=spot_idx, dashes=False)\n",
    "\n",
    "# formatting\n",
    "ax.set_xticks(\n",
    "    pd.period_range(\"2018-09\", \"2021-03\", freq=\"6M\").to_timestamp()\n",
    ")\n",
    "ax.xaxis.set_major_locator(YearLocator(1))\n",
    "ax.xaxis.set_minor_locator(MonthLocator([4, 7, 10]))\n",
    "ax.xaxis.set_major_formatter(DateFormatter(\"%Y\"))\n",
    "ax.xaxis.set_minor_formatter(DateFormatter(\"%b\"))\n",
    "\n",
    "ax.grid(which=\"both\")\n",
    "\n",
    "ax.set_title(\"cryptocurrency price dynamics\")\n",
    "\n",
    "ax.set_ylabel(\"index (08/2018 = 1)\")\n",
    "ax.set_xlabel(\"\", visible=False)\n",
    "\n",
    "plt.show()"
   ]
  },
  {
   "cell_type": "markdown",
   "id": "8e88d004-6ea9-49b0-9943-de6436f1222b",
   "metadata": {},
   "source": [
    "#### perpetual futures price"
   ]
  },
  {
   "cell_type": "code",
   "execution_count": 5,
   "id": "d84d0a88",
   "metadata": {
    "tags": []
   },
   "outputs": [
    {
     "data": {
      "text/html": [
       "<style type=\"text/css\">\n",
       "</style>\n",
       "<table id=\"T_e698f_\">\n",
       "  <thead>\n",
       "    <tr>\n",
       "      <th class=\"col_heading level0 col0\" >timestamp</th>\n",
       "      <th class=\"col_heading level0 col1\" >bch</th>\n",
       "      <th class=\"col_heading level0 col2\" >eth</th>\n",
       "      <th class=\"col_heading level0 col3\" >ltc</th>\n",
       "      <th class=\"col_heading level0 col4\" >xbt</th>\n",
       "      <th class=\"col_heading level0 col5\" >xrp</th>\n",
       "    </tr>\n",
       "  </thead>\n",
       "  <tbody>\n",
       "    <tr>\n",
       "      <td id=\"T_e698f_row0_col0\" class=\"data row0 col0\" >2023-03-31 08:00</td>\n",
       "      <td id=\"T_e698f_row0_col1\" class=\"data row0 col1\" >nan</td>\n",
       "      <td id=\"T_e698f_row0_col2\" class=\"data row0 col2\" >nan</td>\n",
       "      <td id=\"T_e698f_row0_col3\" class=\"data row0 col3\" >nan</td>\n",
       "      <td id=\"T_e698f_row0_col4\" class=\"data row0 col4\" >nan</td>\n",
       "      <td id=\"T_e698f_row0_col5\" class=\"data row0 col5\" >nan</td>\n",
       "    </tr>\n",
       "    <tr>\n",
       "      <td id=\"T_e698f_row1_col0\" class=\"data row1 col0\" >2023-03-31 12:00</td>\n",
       "      <td id=\"T_e698f_row1_col1\" class=\"data row1 col1\" >nan</td>\n",
       "      <td id=\"T_e698f_row1_col2\" class=\"data row1 col2\" >nan</td>\n",
       "      <td id=\"T_e698f_row1_col3\" class=\"data row1 col3\" >nan</td>\n",
       "      <td id=\"T_e698f_row1_col4\" class=\"data row1 col4\" >nan</td>\n",
       "      <td id=\"T_e698f_row1_col5\" class=\"data row1 col5\" >nan</td>\n",
       "    </tr>\n",
       "    <tr>\n",
       "      <td id=\"T_e698f_row2_col0\" class=\"data row2 col0\" >2023-03-31 16:00</td>\n",
       "      <td id=\"T_e698f_row2_col1\" class=\"data row2 col1\" >nan</td>\n",
       "      <td id=\"T_e698f_row2_col2\" class=\"data row2 col2\" >nan</td>\n",
       "      <td id=\"T_e698f_row2_col3\" class=\"data row2 col3\" >nan</td>\n",
       "      <td id=\"T_e698f_row2_col4\" class=\"data row2 col4\" >nan</td>\n",
       "      <td id=\"T_e698f_row2_col5\" class=\"data row2 col5\" >nan</td>\n",
       "    </tr>\n",
       "    <tr>\n",
       "      <td id=\"T_e698f_row3_col0\" class=\"data row3 col0\" >2023-03-31 20:00</td>\n",
       "      <td id=\"T_e698f_row3_col1\" class=\"data row3 col1\" >nan</td>\n",
       "      <td id=\"T_e698f_row3_col2\" class=\"data row3 col2\" >nan</td>\n",
       "      <td id=\"T_e698f_row3_col3\" class=\"data row3 col3\" >nan</td>\n",
       "      <td id=\"T_e698f_row3_col4\" class=\"data row3 col4\" >nan</td>\n",
       "      <td id=\"T_e698f_row3_col5\" class=\"data row3 col5\" >nan</td>\n",
       "    </tr>\n",
       "    <tr>\n",
       "      <td id=\"T_e698f_row4_col0\" class=\"data row4 col0\" >2023-04-01 00:00</td>\n",
       "      <td id=\"T_e698f_row4_col1\" class=\"data row4 col1\" >nan</td>\n",
       "      <td id=\"T_e698f_row4_col2\" class=\"data row4 col2\" >nan</td>\n",
       "      <td id=\"T_e698f_row4_col3\" class=\"data row4 col3\" >nan</td>\n",
       "      <td id=\"T_e698f_row4_col4\" class=\"data row4 col4\" >nan</td>\n",
       "      <td id=\"T_e698f_row4_col5\" class=\"data row4 col5\" >nan</td>\n",
       "    </tr>\n",
       "  </tbody>\n",
       "</table>\n"
      ],
      "text/plain": [
       "<pandas.io.formats.style.Styler at 0x7f8a1df089a0>"
      ]
     },
     "execution_count": 5,
     "metadata": {},
     "output_type": "execute_result"
    }
   ],
   "source": [
    "# load perpetual futures prices, reindex as the spot\n",
    "data_p = get_perpetual(mid=True) \\\n",
    "    .resample(\"4H\", closed=\"right\", label=\"right\").last()\\\n",
    "    .reindex_like(data_s)\n",
    "\n",
    "format_dataframe(data_p)"
   ]
  },
  {
   "cell_type": "markdown",
   "id": "4a82aa93-e3e0-4745-8b55-635c316254ee",
   "metadata": {},
   "source": [
    "Let's take a look at how close the perpetual is to the spot for the case of, say, XBT, zooming in on just one day."
   ]
  },
  {
   "cell_type": "code",
   "execution_count": 7,
   "id": "7e4982f8-c6f2-4261-97c0-cbd617edc25f",
   "metadata": {},
   "outputs": [
    {
     "data": {
      "image/png": "[encoded data removed]",
      "text/plain": [
       "<Figure size 432x288 with 1 Axes>"
      ]
     },
     "metadata": {
      "needs_background": "light"
     },
     "output_type": "display_data"
    }
   ],
   "source": [
    "# take these for the example\n",
    "c_ = \"xbt\"\n",
    "d_ = \"2021-03-15\"\n",
    "\n",
    "# plot two prices\n",
    "to_plot = pd.concat((data_s[c_], data_p[c_]), axis=1, \n",
    "                    keys=[\"spot\", \"perpetual\"])\\\n",
    "    .loc[d_]\n",
    "\n",
    "ax = sns.lineplot(data=to_plot, dashes=False)\n",
    "\n",
    "ax.xaxis.set_major_formatter(DateFormatter(\"%H\"))\n",
    "\n",
    "ax.grid(which=\"both\")\n",
    "\n",
    "ax.set_title(f\"{c_} spot vs perpetual price\")\n",
    "\n",
    "ax.set_ylabel(\"price, in USD\")\n",
    "ax.set_xlabel(f\"hour of {d_}\", visible=True)\n",
    "\n",
    "plt.show()"
   ]
  },
  {
   "cell_type": "markdown",
   "id": "6b7368fe-77e4-4728-896b-3b35c8720105",
   "metadata": {},
   "source": [
    "#### funding rates"
   ]
  },
  {
   "cell_type": "code",
   "execution_count": 8,
   "id": "186a927c-1d3b-45c5-9397-a2c356fb4963",
   "metadata": {},
   "outputs": [
    {
     "data": {
      "text/html": [
       "<style type=\"text/css\">\n",
       "</style>\n",
       "<table id=\"T_1830f_\">\n",
       "  <thead>\n",
       "    <tr>\n",
       "      <th class=\"col_heading level0 col0\" >index</th>\n",
       "      <th class=\"col_heading level0 col1\" >timestamp</th>\n",
       "      <th class=\"col_heading level0 col2\" >asset</th>\n",
       "      <th class=\"col_heading level0 col3\" >which</th>\n",
       "      <th class=\"col_heading level0 col4\" >rate</th>\n",
       "    </tr>\n",
       "  </thead>\n",
       "  <tbody>\n",
       "    <tr>\n",
       "      <td id=\"T_1830f_row0_col0\" class=\"data row0 col0\" >173715</td>\n",
       "      <td id=\"T_1830f_row0_col1\" class=\"data row0 col1\" >2023-09-15 20:00</td>\n",
       "      <td id=\"T_1830f_row0_col2\" class=\"data row0 col2\" >ltc</td>\n",
       "      <td id=\"T_1830f_row0_col3\" class=\"data row0 col3\" >relative</td>\n",
       "      <td id=\"T_1830f_row0_col4\" class=\"data row0 col4\" >-0.00</td>\n",
       "    </tr>\n",
       "    <tr>\n",
       "      <td id=\"T_1830f_row1_col0\" class=\"data row1 col0\" >173716</td>\n",
       "      <td id=\"T_1830f_row1_col1\" class=\"data row1 col1\" >2023-09-15 20:00</td>\n",
       "      <td id=\"T_1830f_row1_col2\" class=\"data row1 col2\" >xbt</td>\n",
       "      <td id=\"T_1830f_row1_col3\" class=\"data row1 col3\" >absolute</td>\n",
       "      <td id=\"T_1830f_row1_col4\" class=\"data row1 col4\" >-0.00</td>\n",
       "    </tr>\n",
       "    <tr>\n",
       "      <td id=\"T_1830f_row2_col0\" class=\"data row2 col0\" >173717</td>\n",
       "      <td id=\"T_1830f_row2_col1\" class=\"data row2 col1\" >2023-09-15 20:00</td>\n",
       "      <td id=\"T_1830f_row2_col2\" class=\"data row2 col2\" >xbt</td>\n",
       "      <td id=\"T_1830f_row2_col3\" class=\"data row2 col3\" >relative</td>\n",
       "      <td id=\"T_1830f_row2_col4\" class=\"data row2 col4\" >-0.00</td>\n",
       "    </tr>\n",
       "    <tr>\n",
       "      <td id=\"T_1830f_row3_col0\" class=\"data row3 col0\" >173718</td>\n",
       "      <td id=\"T_1830f_row3_col1\" class=\"data row3 col1\" >2023-09-15 20:00</td>\n",
       "      <td id=\"T_1830f_row3_col2\" class=\"data row3 col2\" >xrp</td>\n",
       "      <td id=\"T_1830f_row3_col3\" class=\"data row3 col3\" >absolute</td>\n",
       "      <td id=\"T_1830f_row3_col4\" class=\"data row3 col4\" >0.00</td>\n",
       "    </tr>\n",
       "    <tr>\n",
       "      <td id=\"T_1830f_row4_col0\" class=\"data row4 col0\" >173719</td>\n",
       "      <td id=\"T_1830f_row4_col1\" class=\"data row4 col1\" >2023-09-15 20:00</td>\n",
       "      <td id=\"T_1830f_row4_col2\" class=\"data row4 col2\" >xrp</td>\n",
       "      <td id=\"T_1830f_row4_col3\" class=\"data row4 col3\" >relative</td>\n",
       "      <td id=\"T_1830f_row4_col4\" class=\"data row4 col4\" >0.00</td>\n",
       "    </tr>\n",
       "  </tbody>\n",
       "</table>\n"
      ],
      "text/plain": [
       "<pandas.io.formats.style.Styler at 0x7f89f455b070>"
      ]
     },
     "execution_count": 8,
     "metadata": {},
     "output_type": "execute_result"
    }
   ],
   "source": [
    "# abs and relative funding rate\n",
    "data_f = get_funding_rates()\n",
    "format_dataframe(data_f)"
   ]
  },
  {
   "cell_type": "markdown",
   "id": "770af419-687b-4ed3-ad5d-6c1b5fa2f0a5",
   "metadata": {},
   "source": [
    "### carry"
   ]
  },
  {
   "cell_type": "markdown",
   "id": "1460e20b-5354-4f46-b398-fd88d76ea6ed",
   "metadata": {},
   "source": [
    "As mentioned before, the carry of a futures contract is the difference between the spot and futures prices, expressed as the percentage of the former. However, this measure is quite noisy at the 4-hour frequency, so for the signal construction purposes here we rely on a similar concept of the funding rate, which is nothing but a trimmed time-series average of the actual carry."
   ]
  },
  {
   "cell_type": "code",
   "execution_count": 10,
   "id": "efd84cad-ded4-46e8-8794-ba22d1b4aa17",
   "metadata": {},
   "outputs": [],
   "source": [
    "# carry is the negative of the relative funding rate, ~(spot / fwd - 1)\n",
    "carry = data_f \\\n",
    "    .query(\"which == 'relative'\").drop(\"which\", axis=1) \\\n",
    "    .pivot(index=\"timestamp\", columns=\"asset\", values=\"rate\")\\\n",
    "    .mul(-1)"
   ]
  },
  {
   "cell_type": "markdown",
   "id": "31963d46-14c2-4977-9e0a-dafe36a30af9",
   "metadata": {},
   "source": [
    "Here is the spot/futures ratio less 1, also known as the forward discount, compared to the relative funding rate."
   ]
  },
  {
   "cell_type": "code",
   "execution_count": 12,
   "id": "96dcb6e4-0bf5-4304-9399-8cc2554d7d25",
   "metadata": {},
   "outputs": [
    {
     "data": {
      "image/png": "[encoded data removed]",
      "text/plain": [
       "<Figure size 432x288 with 2 Axes>"
      ]
     },
     "metadata": {
      "needs_background": "light"
     },
     "output_type": "display_data"
    }
   ],
   "source": [
    "fwd_d = (data_s / data_p - 1)\n",
    "\n",
    "c_ = \"xbt\"\n",
    "m_ = \"2022-03\"\n",
    "\n",
    "to_plot = pd.concat((fwd_d.loc[m_, c_], carry.loc[m_, c_]), \n",
    "                    axis=1, keys=[\"fwd-disc\", \"rel-fund\"]) * 10000\n",
    "\n",
    "# plot on two axes, style\n",
    "ax = sns.lineplot(data=to_plot[\"fwd-disc\"], color=sns.color_palette(\"colorblind\")[0])\n",
    "ax2 = ax.twinx()\n",
    "sns.lineplot(data=to_plot[\"rel-fund\"], color=sns.color_palette(\"colorblind\")[1], ax=ax2)\n",
    "ax2.set_ylim(np.array(ax.get_ylim()) / 10)\n",
    "ax2.set_yticks(ax.get_yticks() / 10)\n",
    "ax2.set_ylim(np.array(ax.get_ylim()) / 10)\n",
    "\n",
    "ax.xaxis.set_major_formatter(DateFormatter(\"%d\"))\n",
    "\n",
    "ax.grid(axis=\"both\")\n",
    "\n",
    "ax.set_title(f\"measures of carry of {c_}\")\n",
    "\n",
    "ax.set_ylabel(\"forward discount, in pips\")\n",
    "ax2.set_ylabel(\"rel fund rate, in pips\")\n",
    "ax.set_xlabel(f\"day of {m_}\", visible=True)\n",
    "\n",
    "plt.show()"
   ]
  },
  {
   "cell_type": "markdown",
   "id": "5e104820-566d-41ca-9955-138045963926",
   "metadata": {},
   "source": [
    "Below is the average carry of cryptocurrency contracts and its descriptive statistics."
   ]
  },
  {
   "cell_type": "code",
   "execution_count": 13,
   "id": "391b162d",
   "metadata": {},
   "outputs": [
    {
     "data": {
      "image/png": "[encoded data removed]",
      "text/plain": [
       "<Figure size 432x288 with 1 Axes>"
      ]
     },
     "metadata": {
      "needs_background": "light"
     },
     "output_type": "display_data"
    }
   ],
   "source": [
    "# plot\n",
    "ax = sns.barplot(data=carry * ann * 100)\n",
    "ax.set_title(\"carry of cryptocurrency contracts\")\n",
    "ax.set_ylabel(\"percent p.a.\")\n",
    "\n",
    "plt.show()"
   ]
  },
  {
   "cell_type": "code",
   "execution_count": 14,
   "id": "413a8cae",
   "metadata": {},
   "outputs": [
    {
     "data": {
      "text/html": [
       "<style type=\"text/css\">\n",
       "</style>\n",
       "<table id=\"T_ed4f6_\">\n",
       "  <thead>\n",
       "    <tr>\n",
       "      <th class=\"col_heading level0 col0\" >index</th>\n",
       "      <th class=\"col_heading level0 col1\" >bch</th>\n",
       "      <th class=\"col_heading level0 col2\" >eth</th>\n",
       "      <th class=\"col_heading level0 col3\" >ltc</th>\n",
       "      <th class=\"col_heading level0 col4\" >xbt</th>\n",
       "      <th class=\"col_heading level0 col5\" >xrp</th>\n",
       "    </tr>\n",
       "  </thead>\n",
       "  <tbody>\n",
       "    <tr>\n",
       "      <td id=\"T_ed4f6_row0_col0\" class=\"data row0 col0\" >mean</td>\n",
       "      <td id=\"T_ed4f6_row0_col1\" class=\"data row0 col1\" >-2.34</td>\n",
       "      <td id=\"T_ed4f6_row0_col2\" class=\"data row0 col2\" >-4.02</td>\n",
       "      <td id=\"T_ed4f6_row0_col3\" class=\"data row0 col3\" >-0.47</td>\n",
       "      <td id=\"T_ed4f6_row0_col4\" class=\"data row0 col4\" >-1.84</td>\n",
       "      <td id=\"T_ed4f6_row0_col5\" class=\"data row0 col5\" >-5.42</td>\n",
       "    </tr>\n",
       "    <tr>\n",
       "      <td id=\"T_ed4f6_row1_col0\" class=\"data row1 col0\" >sterr</td>\n",
       "      <td id=\"T_ed4f6_row1_col1\" class=\"data row1 col1\" >1.17</td>\n",
       "      <td id=\"T_ed4f6_row1_col2\" class=\"data row1 col2\" >0.77</td>\n",
       "      <td id=\"T_ed4f6_row1_col3\" class=\"data row1 col3\" >1.04</td>\n",
       "      <td id=\"T_ed4f6_row1_col4\" class=\"data row1 col4\" >0.63</td>\n",
       "      <td id=\"T_ed4f6_row1_col5\" class=\"data row1 col5\" >0.86</td>\n",
       "    </tr>\n",
       "    <tr>\n",
       "      <td id=\"T_ed4f6_row2_col0\" class=\"data row2 col0\" >tstat</td>\n",
       "      <td id=\"T_ed4f6_row2_col1\" class=\"data row2 col1\" >-2.00</td>\n",
       "      <td id=\"T_ed4f6_row2_col2\" class=\"data row2 col2\" >-5.23</td>\n",
       "      <td id=\"T_ed4f6_row2_col3\" class=\"data row2 col3\" >-0.45</td>\n",
       "      <td id=\"T_ed4f6_row2_col4\" class=\"data row2 col4\" >-2.92</td>\n",
       "      <td id=\"T_ed4f6_row2_col5\" class=\"data row2 col5\" >-6.29</td>\n",
       "    </tr>\n",
       "    <tr>\n",
       "      <td id=\"T_ed4f6_row3_col0\" class=\"data row3 col0\" >median</td>\n",
       "      <td id=\"T_ed4f6_row3_col1\" class=\"data row3 col1\" >-3.10</td>\n",
       "      <td id=\"T_ed4f6_row3_col2\" class=\"data row3 col2\" >-3.23</td>\n",
       "      <td id=\"T_ed4f6_row3_col3\" class=\"data row3 col3\" >-0.02</td>\n",
       "      <td id=\"T_ed4f6_row3_col4\" class=\"data row3 col4\" >-0.74</td>\n",
       "      <td id=\"T_ed4f6_row3_col5\" class=\"data row3 col5\" >-3.51</td>\n",
       "    </tr>\n",
       "    <tr>\n",
       "      <td id=\"T_ed4f6_row4_col0\" class=\"data row4 col0\" >std</td>\n",
       "      <td id=\"T_ed4f6_row4_col1\" class=\"data row4 col1\" >0.59</td>\n",
       "      <td id=\"T_ed4f6_row4_col2\" class=\"data row4 col2\" >0.38</td>\n",
       "      <td id=\"T_ed4f6_row4_col3\" class=\"data row4 col3\" >0.48</td>\n",
       "      <td id=\"T_ed4f6_row4_col4\" class=\"data row4 col4\" >0.29</td>\n",
       "      <td id=\"T_ed4f6_row4_col5\" class=\"data row4 col5\" >0.47</td>\n",
       "    </tr>\n",
       "    <tr>\n",
       "      <td id=\"T_ed4f6_row5_col0\" class=\"data row5 col0\" >dstd</td>\n",
       "      <td id=\"T_ed4f6_row5_col1\" class=\"data row5 col1\" >0.38</td>\n",
       "      <td id=\"T_ed4f6_row5_col2\" class=\"data row5 col2\" >0.28</td>\n",
       "      <td id=\"T_ed4f6_row5_col3\" class=\"data row5 col3\" >0.32</td>\n",
       "      <td id=\"T_ed4f6_row5_col4\" class=\"data row5 col4\" >0.23</td>\n",
       "      <td id=\"T_ed4f6_row5_col5\" class=\"data row5 col5\" >0.38</td>\n",
       "    </tr>\n",
       "    <tr>\n",
       "      <td id=\"T_ed4f6_row6_col0\" class=\"data row6 col0\" >q95</td>\n",
       "      <td id=\"T_ed4f6_row6_col1\" class=\"data row6 col1\" >34.73</td>\n",
       "      <td id=\"T_ed4f6_row6_col2\" class=\"data row6 col2\" >21.66</td>\n",
       "      <td id=\"T_ed4f6_row6_col3\" class=\"data row6 col3\" >35.67</td>\n",
       "      <td id=\"T_ed4f6_row6_col4\" class=\"data row6 col4\" >17.32</td>\n",
       "      <td id=\"T_ed4f6_row6_col5\" class=\"data row6 col5\" >23.13</td>\n",
       "    </tr>\n",
       "    <tr>\n",
       "      <td id=\"T_ed4f6_row7_col0\" class=\"data row7 col0\" >q05</td>\n",
       "      <td id=\"T_ed4f6_row7_col1\" class=\"data row7 col1\" >-39.58</td>\n",
       "      <td id=\"T_ed4f6_row7_col2\" class=\"data row7 col2\" >-31.67</td>\n",
       "      <td id=\"T_ed4f6_row7_col3\" class=\"data row7 col3\" >-33.68</td>\n",
       "      <td id=\"T_ed4f6_row7_col4\" class=\"data row7 col4\" >-24.89</td>\n",
       "      <td id=\"T_ed4f6_row7_col5\" class=\"data row7 col5\" >-42.07</td>\n",
       "    </tr>\n",
       "    <tr>\n",
       "      <td id=\"T_ed4f6_row8_col0\" class=\"data row8 col0\" >skew</td>\n",
       "      <td id=\"T_ed4f6_row8_col1\" class=\"data row8 col1\" >0.97</td>\n",
       "      <td id=\"T_ed4f6_row8_col2\" class=\"data row8 col2\" >0.45</td>\n",
       "      <td id=\"T_ed4f6_row8_col3\" class=\"data row8 col3\" >0.85</td>\n",
       "      <td id=\"T_ed4f6_row8_col4\" class=\"data row8 col4\" >-0.13</td>\n",
       "      <td id=\"T_ed4f6_row8_col5\" class=\"data row8 col5\" >-0.11</td>\n",
       "    </tr>\n",
       "    <tr>\n",
       "      <td id=\"T_ed4f6_row9_col0\" class=\"data row9 col0\" >kurt</td>\n",
       "      <td id=\"T_ed4f6_row9_col1\" class=\"data row9 col1\" >7.61</td>\n",
       "      <td id=\"T_ed4f6_row9_col2\" class=\"data row9 col2\" >8.63</td>\n",
       "      <td id=\"T_ed4f6_row9_col3\" class=\"data row9 col3\" >7.21</td>\n",
       "      <td id=\"T_ed4f6_row9_col4\" class=\"data row9 col4\" >8.09</td>\n",
       "      <td id=\"T_ed4f6_row9_col5\" class=\"data row9 col5\" >7.08</td>\n",
       "    </tr>\n",
       "    <tr>\n",
       "      <td id=\"T_ed4f6_row10_col0\" class=\"data row10 col0\" >sharpe</td>\n",
       "      <td id=\"T_ed4f6_row10_col1\" class=\"data row10 col1\" >-3.96</td>\n",
       "      <td id=\"T_ed4f6_row10_col2\" class=\"data row10 col2\" >-10.50</td>\n",
       "      <td id=\"T_ed4f6_row10_col3\" class=\"data row10 col3\" >-0.98</td>\n",
       "      <td id=\"T_ed4f6_row10_col4\" class=\"data row10 col4\" >-6.34</td>\n",
       "      <td id=\"T_ed4f6_row10_col5\" class=\"data row10 col5\" >-11.45</td>\n",
       "    </tr>\n",
       "    <tr>\n",
       "      <td id=\"T_ed4f6_row11_col0\" class=\"data row11 col0\" >ac1</td>\n",
       "      <td id=\"T_ed4f6_row11_col1\" class=\"data row11 col1\" >0.75</td>\n",
       "      <td id=\"T_ed4f6_row11_col2\" class=\"data row11 col2\" >0.75</td>\n",
       "      <td id=\"T_ed4f6_row11_col3\" class=\"data row11 col3\" >0.81</td>\n",
       "      <td id=\"T_ed4f6_row11_col4\" class=\"data row11 col4\" >0.77</td>\n",
       "      <td id=\"T_ed4f6_row11_col5\" class=\"data row11 col5\" >0.72</td>\n",
       "    </tr>\n",
       "    <tr>\n",
       "      <td id=\"T_ed4f6_row12_col0\" class=\"data row12 col0\" >maxdd</td>\n",
       "      <td id=\"T_ed4f6_row12_col1\" class=\"data row12 col1\" >21.49</td>\n",
       "      <td id=\"T_ed4f6_row12_col2\" class=\"data row12 col2\" >19.60</td>\n",
       "      <td id=\"T_ed4f6_row12_col3\" class=\"data row12 col3\" >14.17</td>\n",
       "      <td id=\"T_ed4f6_row12_col4\" class=\"data row12 col4\" >11.76</td>\n",
       "      <td id=\"T_ed4f6_row12_col5\" class=\"data row12 col5\" >22.56</td>\n",
       "    </tr>\n",
       "    <tr>\n",
       "      <td id=\"T_ed4f6_row13_col0\" class=\"data row13 col0\" >cvar95</td>\n",
       "      <td id=\"T_ed4f6_row13_col1\" class=\"data row13 col1\" >-0.03</td>\n",
       "      <td id=\"T_ed4f6_row13_col2\" class=\"data row13 col2\" >-0.02</td>\n",
       "      <td id=\"T_ed4f6_row13_col3\" class=\"data row13 col3\" >-0.02</td>\n",
       "      <td id=\"T_ed4f6_row13_col4\" class=\"data row13 col4\" >-0.02</td>\n",
       "      <td id=\"T_ed4f6_row13_col5\" class=\"data row13 col5\" >-0.03</td>\n",
       "    </tr>\n",
       "    <tr>\n",
       "      <td id=\"T_ed4f6_row14_col0\" class=\"data row14 col0\" >count</td>\n",
       "      <td id=\"T_ed4f6_row14_col1\" class=\"data row14 col1\" >8366.00</td>\n",
       "      <td id=\"T_ed4f6_row14_col2\" class=\"data row14 col2\" >8366.00</td>\n",
       "      <td id=\"T_ed4f6_row14_col3\" class=\"data row14 col3\" >8366.00</td>\n",
       "      <td id=\"T_ed4f6_row14_col4\" class=\"data row14 col4\" >8366.00</td>\n",
       "      <td id=\"T_ed4f6_row14_col5\" class=\"data row14 col5\" >8366.00</td>\n",
       "    </tr>\n",
       "  </tbody>\n",
       "</table>\n"
      ],
      "text/plain": [
       "<pandas.io.formats.style.Styler at 0x7fde49933fd0>"
      ]
     },
     "execution_count": 14,
     "metadata": {},
     "output_type": "execute_result"
    }
   ],
   "source": [
    "# print descriptives (some are meaningless)\n",
    "carry_d = descriptives(carry, ann=ann, scl=100, cov_lags=30)\n",
    "\n",
    "# print(\"carry of cryptocurrency contracts: descriptives\\n\")\n",
    "# print(carry_d.iloc[:-2])\n",
    "# print(\"-\" * 41 + \"\\n\")\n",
    "# print(\"values are in percent p.a. where relevant.\\n\")\n",
    "format_dataframe(carry_d, tail=False)"
   ]
  },
  {
   "cell_type": "markdown",
   "id": "ae7872e5-b85a-461c-bd7f-d2951c4357ae",
   "metadata": {},
   "source": [
    "From this perspective, cryptocurrencies resemble fiat funding currencies such as JPY and EUR which also feature negative carry."
   ]
  },
  {
   "cell_type": "markdown",
   "id": "056c2004-bc36-414b-b70e-a17284540ead",
   "metadata": {},
   "source": [
    "### portfolio construction"
   ]
  },
  {
   "cell_type": "code",
   "execution_count": 15,
   "id": "c84399b4",
   "metadata": {},
   "outputs": [
    {
     "name": "stderr",
     "output_type": "stream",
     "text": [
      "/home/ipozdeev/projects/ippython/foolbox/backtesting/sorting.py:198: RuntimeWarning: invalid value encountered in true_divide\n",
      "  bins = (np.array(nass)/n_assets+epsilon).cumsum()\n"
     ]
    },
    {
     "data": {
      "text/html": [
       "<style type=\"text/css\">\n",
       "</style>\n",
       "<table id=\"T_4bce3_\">\n",
       "  <thead>\n",
       "    <tr>\n",
       "      <th class=\"col_heading level0 col0\" >timestamp</th>\n",
       "      <th class=\"col_heading level0 col1\" colspan=\"5\">p_low</th>\n",
       "      <th class=\"col_heading level0 col6\" colspan=\"5\">p_high</th>\n",
       "    </tr>\n",
       "    <tr>\n",
       "      <th class=\"col_heading level1 col0\" ></th>\n",
       "      <th class=\"col_heading level1 col1\" >bch</th>\n",
       "      <th class=\"col_heading level1 col2\" >eth</th>\n",
       "      <th class=\"col_heading level1 col3\" >ltc</th>\n",
       "      <th class=\"col_heading level1 col4\" >xbt</th>\n",
       "      <th class=\"col_heading level1 col5\" >xrp</th>\n",
       "      <th class=\"col_heading level1 col6\" >bch</th>\n",
       "      <th class=\"col_heading level1 col7\" >eth</th>\n",
       "      <th class=\"col_heading level1 col8\" >ltc</th>\n",
       "      <th class=\"col_heading level1 col9\" >xbt</th>\n",
       "      <th class=\"col_heading level1 col10\" >xrp</th>\n",
       "    </tr>\n",
       "  </thead>\n",
       "  <tbody>\n",
       "    <tr>\n",
       "      <td id=\"T_4bce3_row0_col0\" class=\"data row0 col0\" >2022-06-25 04:00</td>\n",
       "      <td id=\"T_4bce3_row0_col1\" class=\"data row0 col1\" >0.00</td>\n",
       "      <td id=\"T_4bce3_row0_col2\" class=\"data row0 col2\" >1.00</td>\n",
       "      <td id=\"T_4bce3_row0_col3\" class=\"data row0 col3\" >0.00</td>\n",
       "      <td id=\"T_4bce3_row0_col4\" class=\"data row0 col4\" >1.00</td>\n",
       "      <td id=\"T_4bce3_row0_col5\" class=\"data row0 col5\" >0.00</td>\n",
       "      <td id=\"T_4bce3_row0_col6\" class=\"data row0 col6\" >1.00</td>\n",
       "      <td id=\"T_4bce3_row0_col7\" class=\"data row0 col7\" >0.00</td>\n",
       "      <td id=\"T_4bce3_row0_col8\" class=\"data row0 col8\" >0.00</td>\n",
       "      <td id=\"T_4bce3_row0_col9\" class=\"data row0 col9\" >0.00</td>\n",
       "      <td id=\"T_4bce3_row0_col10\" class=\"data row0 col10\" >1.00</td>\n",
       "    </tr>\n",
       "    <tr>\n",
       "      <td id=\"T_4bce3_row1_col0\" class=\"data row1 col0\" >2022-06-25 08:00</td>\n",
       "      <td id=\"T_4bce3_row1_col1\" class=\"data row1 col1\" >0.00</td>\n",
       "      <td id=\"T_4bce3_row1_col2\" class=\"data row1 col2\" >1.00</td>\n",
       "      <td id=\"T_4bce3_row1_col3\" class=\"data row1 col3\" >0.00</td>\n",
       "      <td id=\"T_4bce3_row1_col4\" class=\"data row1 col4\" >1.00</td>\n",
       "      <td id=\"T_4bce3_row1_col5\" class=\"data row1 col5\" >0.00</td>\n",
       "      <td id=\"T_4bce3_row1_col6\" class=\"data row1 col6\" >1.00</td>\n",
       "      <td id=\"T_4bce3_row1_col7\" class=\"data row1 col7\" >0.00</td>\n",
       "      <td id=\"T_4bce3_row1_col8\" class=\"data row1 col8\" >0.00</td>\n",
       "      <td id=\"T_4bce3_row1_col9\" class=\"data row1 col9\" >0.00</td>\n",
       "      <td id=\"T_4bce3_row1_col10\" class=\"data row1 col10\" >1.00</td>\n",
       "    </tr>\n",
       "    <tr>\n",
       "      <td id=\"T_4bce3_row2_col0\" class=\"data row2 col0\" >2022-06-25 12:00</td>\n",
       "      <td id=\"T_4bce3_row2_col1\" class=\"data row2 col1\" >0.00</td>\n",
       "      <td id=\"T_4bce3_row2_col2\" class=\"data row2 col2\" >1.00</td>\n",
       "      <td id=\"T_4bce3_row2_col3\" class=\"data row2 col3\" >0.00</td>\n",
       "      <td id=\"T_4bce3_row2_col4\" class=\"data row2 col4\" >1.00</td>\n",
       "      <td id=\"T_4bce3_row2_col5\" class=\"data row2 col5\" >0.00</td>\n",
       "      <td id=\"T_4bce3_row2_col6\" class=\"data row2 col6\" >1.00</td>\n",
       "      <td id=\"T_4bce3_row2_col7\" class=\"data row2 col7\" >0.00</td>\n",
       "      <td id=\"T_4bce3_row2_col8\" class=\"data row2 col8\" >0.00</td>\n",
       "      <td id=\"T_4bce3_row2_col9\" class=\"data row2 col9\" >0.00</td>\n",
       "      <td id=\"T_4bce3_row2_col10\" class=\"data row2 col10\" >1.00</td>\n",
       "    </tr>\n",
       "    <tr>\n",
       "      <td id=\"T_4bce3_row3_col0\" class=\"data row3 col0\" >2022-06-25 16:00</td>\n",
       "      <td id=\"T_4bce3_row3_col1\" class=\"data row3 col1\" >0.00</td>\n",
       "      <td id=\"T_4bce3_row3_col2\" class=\"data row3 col2\" >1.00</td>\n",
       "      <td id=\"T_4bce3_row3_col3\" class=\"data row3 col3\" >0.00</td>\n",
       "      <td id=\"T_4bce3_row3_col4\" class=\"data row3 col4\" >1.00</td>\n",
       "      <td id=\"T_4bce3_row3_col5\" class=\"data row3 col5\" >0.00</td>\n",
       "      <td id=\"T_4bce3_row3_col6\" class=\"data row3 col6\" >1.00</td>\n",
       "      <td id=\"T_4bce3_row3_col7\" class=\"data row3 col7\" >0.00</td>\n",
       "      <td id=\"T_4bce3_row3_col8\" class=\"data row3 col8\" >1.00</td>\n",
       "      <td id=\"T_4bce3_row3_col9\" class=\"data row3 col9\" >0.00</td>\n",
       "      <td id=\"T_4bce3_row3_col10\" class=\"data row3 col10\" >0.00</td>\n",
       "    </tr>\n",
       "    <tr>\n",
       "      <td id=\"T_4bce3_row4_col0\" class=\"data row4 col0\" >2022-06-25 20:00</td>\n",
       "      <td id=\"T_4bce3_row4_col1\" class=\"data row4 col1\" >0.00</td>\n",
       "      <td id=\"T_4bce3_row4_col2\" class=\"data row4 col2\" >1.00</td>\n",
       "      <td id=\"T_4bce3_row4_col3\" class=\"data row4 col3\" >0.00</td>\n",
       "      <td id=\"T_4bce3_row4_col4\" class=\"data row4 col4\" >1.00</td>\n",
       "      <td id=\"T_4bce3_row4_col5\" class=\"data row4 col5\" >0.00</td>\n",
       "      <td id=\"T_4bce3_row4_col6\" class=\"data row4 col6\" >1.00</td>\n",
       "      <td id=\"T_4bce3_row4_col7\" class=\"data row4 col7\" >0.00</td>\n",
       "      <td id=\"T_4bce3_row4_col8\" class=\"data row4 col8\" >1.00</td>\n",
       "      <td id=\"T_4bce3_row4_col9\" class=\"data row4 col9\" >0.00</td>\n",
       "      <td id=\"T_4bce3_row4_col10\" class=\"data row4 col10\" >0.00</td>\n",
       "    </tr>\n",
       "  </tbody>\n",
       "</table>\n"
      ],
      "text/plain": [
       "<pandas.io.formats.style.Styler at 0x7fde49990b20>"
      ]
     },
     "execution_count": 15,
     "metadata": {},
     "output_type": "execute_result"
    }
   ],
   "source": [
    "# the signal is the rolling median of the carry (proxy)\n",
    "carry_sig = carry\\\n",
    "    .rolling(signal_lookback, min_periods=signal_lookback // 2)\\\n",
    "    .median()\\\n",
    "    .shift(1)\n",
    "\n",
    "# below, 1 means that the asset is in portfolio at time t;\n",
    "# portfolios are in the top level of the columns, while assets\n",
    "# are in the bottom level\n",
    "sorts = rank_sort(carry_sig, legsize=legsize)\n",
    "\n",
    "format_dataframe(sorts[[\"p_low\", \"p_high\"]])"
   ]
  },
  {
   "cell_type": "code",
   "execution_count": 16,
   "id": "9678956d",
   "metadata": {},
   "outputs": [
    {
     "data": {
      "image/png": "[encoded data removed]",
      "text/plain": [
       "<Figure size 432x288 with 5 Axes>"
      ]
     },
     "metadata": {
      "needs_background": "light"
     },
     "output_type": "display_data"
    }
   ],
   "source": [
    "# plot positions\n",
    "ax = sorts[\"p_high\"].add(sorts[\"p_low\"].mul(-1)).plot(subplots=True)\n",
    "\n",
    "plt.show()"
   ]
  },
  {
   "cell_type": "markdown",
   "id": "3f4e3ade-b1f2-42f3-b9f8-ace4cd4f7081",
   "metadata": {},
   "source": [
    "It can be seen that cryptocurrencies move between portfolios a lot &mdash; in stark contrast to fiat currencies in a typical fiat FX carry strategy, where the high and low portfolios are relatively stable."
   ]
  },
  {
   "cell_type": "markdown",
   "id": "84cab812-baf8-4173-8828-d7745709ed6f",
   "metadata": {},
   "source": [
    "### excess returns\n",
    "Here, we implement the formulas in section [\"return calculation\"](#return-calculation). To keep the same leverage of 2 in the long and short leg, we use 1 long contract and 3 short ones."
   ]
  },
  {
   "cell_type": "code",
   "execution_count": 17,
   "id": "25eb9ae5",
   "metadata": {},
   "outputs": [
    {
     "name": "stdout",
     "output_type": "stream",
     "text": [
      "excess returns, in percent\n"
     ]
    },
    {
     "data": {
      "text/html": [
       "<style type=\"text/css\">\n",
       "</style>\n",
       "<table id=\"T_09b32_\">\n",
       "  <thead>\n",
       "    <tr>\n",
       "      <th class=\"col_heading level0 col0\" >timestamp</th>\n",
       "      <th class=\"col_heading level0 col1\" colspan=\"5\">p_high</th>\n",
       "      <th class=\"col_heading level0 col6\" colspan=\"5\">p_low</th>\n",
       "    </tr>\n",
       "    <tr>\n",
       "      <th class=\"col_heading level1 col0\" ></th>\n",
       "      <th class=\"col_heading level1 col1\" >bch</th>\n",
       "      <th class=\"col_heading level1 col2\" >eth</th>\n",
       "      <th class=\"col_heading level1 col3\" >ltc</th>\n",
       "      <th class=\"col_heading level1 col4\" >xbt</th>\n",
       "      <th class=\"col_heading level1 col5\" >xrp</th>\n",
       "      <th class=\"col_heading level1 col6\" >bch</th>\n",
       "      <th class=\"col_heading level1 col7\" >eth</th>\n",
       "      <th class=\"col_heading level1 col8\" >ltc</th>\n",
       "      <th class=\"col_heading level1 col9\" >xbt</th>\n",
       "      <th class=\"col_heading level1 col10\" >xrp</th>\n",
       "    </tr>\n",
       "  </thead>\n",
       "  <tbody>\n",
       "    <tr>\n",
       "      <td id=\"T_09b32_row0_col0\" class=\"data row0 col0\" >2022-03-31 04:00</td>\n",
       "      <td id=\"T_09b32_row0_col1\" class=\"data row0 col1\" >0.23</td>\n",
       "      <td id=\"T_09b32_row0_col2\" class=\"data row0 col2\" >0.46</td>\n",
       "      <td id=\"T_09b32_row0_col3\" class=\"data row0 col3\" >-2.95</td>\n",
       "      <td id=\"T_09b32_row0_col4\" class=\"data row0 col4\" >0.43</td>\n",
       "      <td id=\"T_09b32_row0_col5\" class=\"data row0 col5\" >0.71</td>\n",
       "      <td id=\"T_09b32_row0_col6\" class=\"data row0 col6\" >0.69</td>\n",
       "      <td id=\"T_09b32_row0_col7\" class=\"data row0 col7\" >-0.31</td>\n",
       "      <td id=\"T_09b32_row0_col8\" class=\"data row0 col8\" >2.76</td>\n",
       "      <td id=\"T_09b32_row0_col9\" class=\"data row0 col9\" >-0.59</td>\n",
       "      <td id=\"T_09b32_row0_col10\" class=\"data row0 col10\" >-0.59</td>\n",
       "    </tr>\n",
       "    <tr>\n",
       "      <td id=\"T_09b32_row1_col0\" class=\"data row1 col0\" >2022-03-31 08:00</td>\n",
       "      <td id=\"T_09b32_row1_col1\" class=\"data row1 col1\" >0.83</td>\n",
       "      <td id=\"T_09b32_row1_col2\" class=\"data row1 col2\" >0.34</td>\n",
       "      <td id=\"T_09b32_row1_col3\" class=\"data row1 col3\" >0.57</td>\n",
       "      <td id=\"T_09b32_row1_col4\" class=\"data row1 col4\" >-0.18</td>\n",
       "      <td id=\"T_09b32_row1_col5\" class=\"data row1 col5\" >0.57</td>\n",
       "      <td id=\"T_09b32_row1_col6\" class=\"data row1 col6\" >-1.98</td>\n",
       "      <td id=\"T_09b32_row1_col7\" class=\"data row1 col7\" >-0.03</td>\n",
       "      <td id=\"T_09b32_row1_col8\" class=\"data row1 col8\" >-0.35</td>\n",
       "      <td id=\"T_09b32_row1_col9\" class=\"data row1 col9\" >0.23</td>\n",
       "      <td id=\"T_09b32_row1_col10\" class=\"data row1 col10\" >-0.52</td>\n",
       "    </tr>\n",
       "    <tr>\n",
       "      <td id=\"T_09b32_row2_col0\" class=\"data row2 col0\" >2022-03-31 12:00</td>\n",
       "      <td id=\"T_09b32_row2_col1\" class=\"data row2 col1\" >-7.30</td>\n",
       "      <td id=\"T_09b32_row2_col2\" class=\"data row2 col2\" >-3.80</td>\n",
       "      <td id=\"T_09b32_row2_col3\" class=\"data row2 col3\" >-9.19</td>\n",
       "      <td id=\"T_09b32_row2_col4\" class=\"data row2 col4\" >-3.08</td>\n",
       "      <td id=\"T_09b32_row2_col5\" class=\"data row2 col5\" >-10.66</td>\n",
       "      <td id=\"T_09b32_row2_col6\" class=\"data row2 col6\" >7.57</td>\n",
       "      <td id=\"T_09b32_row2_col7\" class=\"data row2 col7\" >3.77</td>\n",
       "      <td id=\"T_09b32_row2_col8\" class=\"data row2 col8\" >9.58</td>\n",
       "      <td id=\"T_09b32_row2_col9\" class=\"data row2 col9\" >2.83</td>\n",
       "      <td id=\"T_09b32_row2_col10\" class=\"data row2 col10\" >10.71</td>\n",
       "    </tr>\n",
       "    <tr>\n",
       "      <td id=\"T_09b32_row3_col0\" class=\"data row3 col0\" >2022-03-31 16:00</td>\n",
       "      <td id=\"T_09b32_row3_col1\" class=\"data row3 col1\" >4.72</td>\n",
       "      <td id=\"T_09b32_row3_col2\" class=\"data row3 col2\" >-3.42</td>\n",
       "      <td id=\"T_09b32_row3_col3\" class=\"data row3 col3\" >0.70</td>\n",
       "      <td id=\"T_09b32_row3_col4\" class=\"data row3 col4\" >-3.48</td>\n",
       "      <td id=\"T_09b32_row3_col5\" class=\"data row3 col5\" >-1.98</td>\n",
       "      <td id=\"T_09b32_row3_col6\" class=\"data row3 col6\" >-4.75</td>\n",
       "      <td id=\"T_09b32_row3_col7\" class=\"data row3 col7\" >3.12</td>\n",
       "      <td id=\"T_09b32_row3_col8\" class=\"data row3 col8\" >-1.43</td>\n",
       "      <td id=\"T_09b32_row3_col9\" class=\"data row3 col9\" >3.41</td>\n",
       "      <td id=\"T_09b32_row3_col10\" class=\"data row3 col10\" >1.73</td>\n",
       "    </tr>\n",
       "    <tr>\n",
       "      <td id=\"T_09b32_row4_col0\" class=\"data row4 col0\" >2022-03-31 20:00</td>\n",
       "      <td id=\"T_09b32_row4_col1\" class=\"data row4 col1\" >3.69</td>\n",
       "      <td id=\"T_09b32_row4_col2\" class=\"data row4 col2\" >-0.55</td>\n",
       "      <td id=\"T_09b32_row4_col3\" class=\"data row4 col3\" >-0.82</td>\n",
       "      <td id=\"T_09b32_row4_col4\" class=\"data row4 col4\" >-0.44</td>\n",
       "      <td id=\"T_09b32_row4_col5\" class=\"data row4 col5\" >0.23</td>\n",
       "      <td id=\"T_09b32_row4_col6\" class=\"data row4 col6\" >-4.04</td>\n",
       "      <td id=\"T_09b32_row4_col7\" class=\"data row4 col7\" >0.81</td>\n",
       "      <td id=\"T_09b32_row4_col8\" class=\"data row4 col8\" >0.43</td>\n",
       "      <td id=\"T_09b32_row4_col9\" class=\"data row4 col9\" >0.67</td>\n",
       "      <td id=\"T_09b32_row4_col10\" class=\"data row4 col10\" >0.19</td>\n",
       "    </tr>\n",
       "  </tbody>\n",
       "</table>\n"
      ],
      "text/plain": [
       "<pandas.io.formats.style.Styler at 0x7fde382cc2b0>"
      ]
     },
     "execution_count": 17,
     "metadata": {},
     "output_type": "execute_result"
    }
   ],
   "source": [
    "# forward-looking returns and funding (levered x2)\n",
    "# need 1 long and 3 short contracts to achieve the same level of leverage\n",
    "n_long = 1\n",
    "n_short = 3\n",
    "\n",
    "# absolute funding rate\n",
    "f_rate = data_f \\\n",
    "    .query(\"which == 'absolute'\").drop(\"which\", axis=1) \\\n",
    "    .pivot(index=\"timestamp\", columns=\"asset\", values=\"rate\")\n",
    "\n",
    "# long\n",
    "r_long = n_long * data_s.shift(-t_hold) * \\\n",
    "     (1 / data_p - 1 / data_p.shift(-t_hold) -\n",
    "      f_rate.shift(1).mul(4).rolling(t_hold).sum().shift(-t_hold + 1)) + \\\n",
    "     data_s.shift(-t_hold) / data_s - 1\n",
    "\n",
    "# short\n",
    "r_short = n_short * data_s.shift(-t_hold) * \\\n",
    "      (1 / data_p.shift(-t_hold) - 1 / data_p +\n",
    "       f_rate.shift(1).mul(4).rolling(t_hold).sum().shift(-t_hold + 1)) + \\\n",
    "      data_s.shift(-t_hold) / data_s - 1\n",
    "\n",
    "# both\n",
    "rx = pd.concat([r_long, r_short], axis=1, keys=[\"p_high\", \"p_low\"],\n",
    "               names=[\"portfolio\", \"asset\"])\n",
    "\n",
    "print(\"excess returns, in percent\")\n",
    "format_dataframe(rx.dropna(how=\"all\") * 100)"
   ]
  },
  {
   "cell_type": "code",
   "execution_count": 18,
   "id": "10207062",
   "metadata": {},
   "outputs": [
    {
     "name": "stdout",
     "output_type": "stream",
     "text": [
      "p_high (x2 leverage):\n"
     ]
    },
    {
     "data": {
      "text/html": [
       "<style type=\"text/css\">\n",
       "</style>\n",
       "<table id=\"T_81d12_\">\n",
       "  <thead>\n",
       "    <tr>\n",
       "      <th class=\"col_heading level0 col0\" >index</th>\n",
       "      <th class=\"col_heading level0 col1\" >bch</th>\n",
       "      <th class=\"col_heading level0 col2\" >eth</th>\n",
       "      <th class=\"col_heading level0 col3\" >ltc</th>\n",
       "      <th class=\"col_heading level0 col4\" >xbt</th>\n",
       "      <th class=\"col_heading level0 col5\" >xrp</th>\n",
       "    </tr>\n",
       "  </thead>\n",
       "  <tbody>\n",
       "    <tr>\n",
       "      <td id=\"T_81d12_row0_col0\" class=\"data row0 col0\" >mean</td>\n",
       "      <td id=\"T_81d12_row0_col1\" class=\"data row0 col1\" >186.75</td>\n",
       "      <td id=\"T_81d12_row0_col2\" class=\"data row0 col2\" >204.28</td>\n",
       "      <td id=\"T_81d12_row0_col3\" class=\"data row0 col3\" >143.05</td>\n",
       "      <td id=\"T_81d12_row0_col4\" class=\"data row0 col4\" >151.01</td>\n",
       "      <td id=\"T_81d12_row0_col5\" class=\"data row0 col5\" >148.37</td>\n",
       "    </tr>\n",
       "    <tr>\n",
       "      <td id=\"T_81d12_row1_col0\" class=\"data row1 col0\" >sterr</td>\n",
       "      <td id=\"T_81d12_row1_col1\" class=\"data row1 col1\" >119.97</td>\n",
       "      <td id=\"T_81d12_row1_col2\" class=\"data row1 col2\" >99.32</td>\n",
       "      <td id=\"T_81d12_row1_col3\" class=\"data row1 col3\" >112.12</td>\n",
       "      <td id=\"T_81d12_row1_col4\" class=\"data row1 col4\" >77.68</td>\n",
       "      <td id=\"T_81d12_row1_col5\" class=\"data row1 col5\" >120.27</td>\n",
       "    </tr>\n",
       "    <tr>\n",
       "      <td id=\"T_81d12_row2_col0\" class=\"data row2 col0\" >tstat</td>\n",
       "      <td id=\"T_81d12_row2_col1\" class=\"data row2 col1\" >1.56</td>\n",
       "      <td id=\"T_81d12_row2_col2\" class=\"data row2 col2\" >2.06</td>\n",
       "      <td id=\"T_81d12_row2_col3\" class=\"data row2 col3\" >1.28</td>\n",
       "      <td id=\"T_81d12_row2_col4\" class=\"data row2 col4\" >1.94</td>\n",
       "      <td id=\"T_81d12_row2_col5\" class=\"data row2 col5\" >1.23</td>\n",
       "    </tr>\n",
       "    <tr>\n",
       "      <td id=\"T_81d12_row3_col0\" class=\"data row3 col0\" >median</td>\n",
       "      <td id=\"T_81d12_row3_col1\" class=\"data row3 col1\" >97.73</td>\n",
       "      <td id=\"T_81d12_row3_col2\" class=\"data row3 col2\" >126.06</td>\n",
       "      <td id=\"T_81d12_row3_col3\" class=\"data row3 col3\" >56.49</td>\n",
       "      <td id=\"T_81d12_row3_col4\" class=\"data row3 col4\" >107.53</td>\n",
       "      <td id=\"T_81d12_row3_col5\" class=\"data row3 col5\" >48.55</td>\n",
       "    </tr>\n",
       "    <tr>\n",
       "      <td id=\"T_81d12_row4_col0\" class=\"data row4 col0\" >std</td>\n",
       "      <td id=\"T_81d12_row4_col1\" class=\"data row4 col1\" >219.87</td>\n",
       "      <td id=\"T_81d12_row4_col2\" class=\"data row4 col2\" >191.68</td>\n",
       "      <td id=\"T_81d12_row4_col3\" class=\"data row4 col3\" >207.15</td>\n",
       "      <td id=\"T_81d12_row4_col4\" class=\"data row4 col4\" >149.91</td>\n",
       "      <td id=\"T_81d12_row4_col5\" class=\"data row4 col5\" >227.55</td>\n",
       "    </tr>\n",
       "    <tr>\n",
       "      <td id=\"T_81d12_row5_col0\" class=\"data row5 col0\" >dstd</td>\n",
       "      <td id=\"T_81d12_row5_col1\" class=\"data row5 col1\" >169.38</td>\n",
       "      <td id=\"T_81d12_row5_col2\" class=\"data row5 col2\" >148.01</td>\n",
       "      <td id=\"T_81d12_row5_col3\" class=\"data row5 col3\" >157.44</td>\n",
       "      <td id=\"T_81d12_row5_col4\" class=\"data row5 col4\" >120.30</td>\n",
       "      <td id=\"T_81d12_row5_col5\" class=\"data row5 col5\" >173.60</td>\n",
       "    </tr>\n",
       "    <tr>\n",
       "      <td id=\"T_81d12_row6_col0\" class=\"data row6 col0\" >q95</td>\n",
       "      <td id=\"T_81d12_row6_col1\" class=\"data row6 col1\" >15063.00</td>\n",
       "      <td id=\"T_81d12_row6_col2\" class=\"data row6 col2\" >14214.64</td>\n",
       "      <td id=\"T_81d12_row6_col3\" class=\"data row6 col3\" >14688.40</td>\n",
       "      <td id=\"T_81d12_row6_col4\" class=\"data row6 col4\" >10823.98</td>\n",
       "      <td id=\"T_81d12_row6_col5\" class=\"data row6 col5\" >14691.51</td>\n",
       "    </tr>\n",
       "    <tr>\n",
       "      <td id=\"T_81d12_row7_col0\" class=\"data row7 col0\" >q05</td>\n",
       "      <td id=\"T_81d12_row7_col1\" class=\"data row7 col1\" >-14397.81</td>\n",
       "      <td id=\"T_81d12_row7_col2\" class=\"data row7 col2\" >-13434.51</td>\n",
       "      <td id=\"T_81d12_row7_col3\" class=\"data row7 col3\" >-14190.84</td>\n",
       "      <td id=\"T_81d12_row7_col4\" class=\"data row7 col4\" >-9938.34</td>\n",
       "      <td id=\"T_81d12_row7_col5\" class=\"data row7 col5\" >-14418.82</td>\n",
       "    </tr>\n",
       "    <tr>\n",
       "      <td id=\"T_81d12_row8_col0\" class=\"data row8 col0\" >skew</td>\n",
       "      <td id=\"T_81d12_row8_col1\" class=\"data row8 col1\" >-0.05</td>\n",
       "      <td id=\"T_81d12_row8_col2\" class=\"data row8 col2\" >-0.34</td>\n",
       "      <td id=\"T_81d12_row8_col3\" class=\"data row8 col3\" >-0.28</td>\n",
       "      <td id=\"T_81d12_row8_col4\" class=\"data row8 col4\" >-0.40</td>\n",
       "      <td id=\"T_81d12_row8_col5\" class=\"data row8 col5\" >0.43</td>\n",
       "    </tr>\n",
       "    <tr>\n",
       "      <td id=\"T_81d12_row9_col0\" class=\"data row9 col0\" >kurt</td>\n",
       "      <td id=\"T_81d12_row9_col1\" class=\"data row9 col1\" >12.56</td>\n",
       "      <td id=\"T_81d12_row9_col2\" class=\"data row9 col2\" >8.35</td>\n",
       "      <td id=\"T_81d12_row9_col3\" class=\"data row9 col3\" >6.34</td>\n",
       "      <td id=\"T_81d12_row9_col4\" class=\"data row9 col4\" >13.52</td>\n",
       "      <td id=\"T_81d12_row9_col5\" class=\"data row9 col5\" >18.75</td>\n",
       "    </tr>\n",
       "    <tr>\n",
       "      <td id=\"T_81d12_row10_col0\" class=\"data row10 col0\" >sharpe</td>\n",
       "      <td id=\"T_81d12_row10_col1\" class=\"data row10 col1\" >0.85</td>\n",
       "      <td id=\"T_81d12_row10_col2\" class=\"data row10 col2\" >1.07</td>\n",
       "      <td id=\"T_81d12_row10_col3\" class=\"data row10 col3\" >0.69</td>\n",
       "      <td id=\"T_81d12_row10_col4\" class=\"data row10 col4\" >1.01</td>\n",
       "      <td id=\"T_81d12_row10_col5\" class=\"data row10 col5\" >0.65</td>\n",
       "    </tr>\n",
       "    <tr>\n",
       "      <td id=\"T_81d12_row11_col0\" class=\"data row11 col0\" >ac1</td>\n",
       "      <td id=\"T_81d12_row11_col1\" class=\"data row11 col1\" >-0.04</td>\n",
       "      <td id=\"T_81d12_row11_col2\" class=\"data row11 col2\" >-0.05</td>\n",
       "      <td id=\"T_81d12_row11_col3\" class=\"data row11 col3\" >-0.02</td>\n",
       "      <td id=\"T_81d12_row11_col4\" class=\"data row11 col4\" >-0.04</td>\n",
       "      <td id=\"T_81d12_row11_col5\" class=\"data row11 col5\" >-0.02</td>\n",
       "    </tr>\n",
       "    <tr>\n",
       "      <td id=\"T_81d12_row12_col0\" class=\"data row12 col0\" >maxdd</td>\n",
       "      <td id=\"T_81d12_row12_col1\" class=\"data row12 col1\" >261.96</td>\n",
       "      <td id=\"T_81d12_row12_col2\" class=\"data row12 col2\" >238.63</td>\n",
       "      <td id=\"T_81d12_row12_col3\" class=\"data row12 col3\" >256.50</td>\n",
       "      <td id=\"T_81d12_row12_col4\" class=\"data row12 col4\" >187.92</td>\n",
       "      <td id=\"T_81d12_row12_col5\" class=\"data row12 col5\" >260.40</td>\n",
       "    </tr>\n",
       "    <tr>\n",
       "      <td id=\"T_81d12_row13_col0\" class=\"data row13 col0\" >cvar95</td>\n",
       "      <td id=\"T_81d12_row13_col1\" class=\"data row13 col1\" >-11.18</td>\n",
       "      <td id=\"T_81d12_row13_col2\" class=\"data row13 col2\" >-9.91</td>\n",
       "      <td id=\"T_81d12_row13_col3\" class=\"data row13 col3\" >-10.68</td>\n",
       "      <td id=\"T_81d12_row13_col4\" class=\"data row13 col4\" >-7.81</td>\n",
       "      <td id=\"T_81d12_row13_col5\" class=\"data row13 col5\" >-11.38</td>\n",
       "    </tr>\n",
       "    <tr>\n",
       "      <td id=\"T_81d12_row14_col0\" class=\"data row14 col0\" >count</td>\n",
       "      <td id=\"T_81d12_row14_col1\" class=\"data row14 col1\" >7084.00</td>\n",
       "      <td id=\"T_81d12_row14_col2\" class=\"data row14 col2\" >7787.00</td>\n",
       "      <td id=\"T_81d12_row14_col3\" class=\"data row14 col3\" >7319.00</td>\n",
       "      <td id=\"T_81d12_row14_col4\" class=\"data row14 col4\" >7832.00</td>\n",
       "      <td id=\"T_81d12_row14_col5\" class=\"data row14 col5\" >7665.00</td>\n",
       "    </tr>\n",
       "  </tbody>\n",
       "</table>\n"
      ],
      "text/plain": [
       "<pandas.io.formats.style.Styler at 0x7fde3834a070>"
      ]
     },
     "execution_count": 18,
     "metadata": {},
     "output_type": "execute_result"
    }
   ],
   "source": [
    "# take a look at returns\n",
    "print(\"p_high (x2 leverage):\")\n",
    "format_dataframe(descriptives(rx.xs(\"p_high\", axis=1), ann=ann/t_hold, scl=100), tail=False)"
   ]
  },
  {
   "cell_type": "code",
   "execution_count": 19,
   "id": "3ceee84b-c808-4157-a367-7fc93df2c355",
   "metadata": {},
   "outputs": [
    {
     "name": "stdout",
     "output_type": "stream",
     "text": [
      "\n",
      "p_low (x2 leverage):\n"
     ]
    },
    {
     "data": {
      "text/html": [
       "<style type=\"text/css\">\n",
       "</style>\n",
       "<table id=\"T_a7adc_\">\n",
       "  <thead>\n",
       "    <tr>\n",
       "      <th class=\"col_heading level0 col0\" >index</th>\n",
       "      <th class=\"col_heading level0 col1\" >bch</th>\n",
       "      <th class=\"col_heading level0 col2\" >eth</th>\n",
       "      <th class=\"col_heading level0 col3\" >ltc</th>\n",
       "      <th class=\"col_heading level0 col4\" >xbt</th>\n",
       "      <th class=\"col_heading level0 col5\" >xrp</th>\n",
       "    </tr>\n",
       "  </thead>\n",
       "  <tbody>\n",
       "    <tr>\n",
       "      <td id=\"T_a7adc_row0_col0\" class=\"data row0 col0\" >mean</td>\n",
       "      <td id=\"T_a7adc_row0_col1\" class=\"data row0 col1\" >-139.50</td>\n",
       "      <td id=\"T_a7adc_row0_col2\" class=\"data row0 col2\" >-169.69</td>\n",
       "      <td id=\"T_a7adc_row0_col3\" class=\"data row0 col3\" >-114.13</td>\n",
       "      <td id=\"T_a7adc_row0_col4\" class=\"data row0 col4\" >-135.18</td>\n",
       "      <td id=\"T_a7adc_row0_col5\" class=\"data row0 col5\" >-102.42</td>\n",
       "    </tr>\n",
       "    <tr>\n",
       "      <td id=\"T_a7adc_row1_col0\" class=\"data row1 col0\" >sterr</td>\n",
       "      <td id=\"T_a7adc_row1_col1\" class=\"data row1 col1\" >123.28</td>\n",
       "      <td id=\"T_a7adc_row1_col2\" class=\"data row1 col2\" >100.38</td>\n",
       "      <td id=\"T_a7adc_row1_col3\" class=\"data row1 col3\" >113.26</td>\n",
       "      <td id=\"T_a7adc_row1_col4\" class=\"data row1 col4\" >78.93</td>\n",
       "      <td id=\"T_a7adc_row1_col5\" class=\"data row1 col5\" >122.22</td>\n",
       "    </tr>\n",
       "    <tr>\n",
       "      <td id=\"T_a7adc_row2_col0\" class=\"data row2 col0\" >tstat</td>\n",
       "      <td id=\"T_a7adc_row2_col1\" class=\"data row2 col1\" >-1.13</td>\n",
       "      <td id=\"T_a7adc_row2_col2\" class=\"data row2 col2\" >-1.69</td>\n",
       "      <td id=\"T_a7adc_row2_col3\" class=\"data row2 col3\" >-1.01</td>\n",
       "      <td id=\"T_a7adc_row2_col4\" class=\"data row2 col4\" >-1.71</td>\n",
       "      <td id=\"T_a7adc_row2_col5\" class=\"data row2 col5\" >-0.84</td>\n",
       "    </tr>\n",
       "    <tr>\n",
       "      <td id=\"T_a7adc_row3_col0\" class=\"data row3 col0\" >median</td>\n",
       "      <td id=\"T_a7adc_row3_col1\" class=\"data row3 col1\" >19.34</td>\n",
       "      <td id=\"T_a7adc_row3_col2\" class=\"data row3 col2\" >-45.63</td>\n",
       "      <td id=\"T_a7adc_row3_col3\" class=\"data row3 col3\" >-51.23</td>\n",
       "      <td id=\"T_a7adc_row3_col4\" class=\"data row3 col4\" >-93.72</td>\n",
       "      <td id=\"T_a7adc_row3_col5\" class=\"data row3 col5\" >-30.69</td>\n",
       "    </tr>\n",
       "    <tr>\n",
       "      <td id=\"T_a7adc_row4_col0\" class=\"data row4 col0\" >std</td>\n",
       "      <td id=\"T_a7adc_row4_col1\" class=\"data row4 col1\" >227.77</td>\n",
       "      <td id=\"T_a7adc_row4_col2\" class=\"data row4 col2\" >194.56</td>\n",
       "      <td id=\"T_a7adc_row4_col3\" class=\"data row4 col3\" >210.62</td>\n",
       "      <td id=\"T_a7adc_row4_col4\" class=\"data row4 col4\" >153.04</td>\n",
       "      <td id=\"T_a7adc_row4_col5\" class=\"data row4 col5\" >232.59</td>\n",
       "    </tr>\n",
       "    <tr>\n",
       "      <td id=\"T_a7adc_row5_col0\" class=\"data row5 col0\" >dstd</td>\n",
       "      <td id=\"T_a7adc_row5_col1\" class=\"data row5 col1\" >177.30</td>\n",
       "      <td id=\"T_a7adc_row5_col2\" class=\"data row5 col2\" >141.00</td>\n",
       "      <td id=\"T_a7adc_row5_col3\" class=\"data row5 col3\" >151.70</td>\n",
       "      <td id=\"T_a7adc_row5_col4\" class=\"data row5 col4\" >116.58</td>\n",
       "      <td id=\"T_a7adc_row5_col5\" class=\"data row5 col5\" >191.93</td>\n",
       "    </tr>\n",
       "    <tr>\n",
       "      <td id=\"T_a7adc_row6_col0\" class=\"data row6 col0\" >q95</td>\n",
       "      <td id=\"T_a7adc_row6_col1\" class=\"data row6 col1\" >14876.71</td>\n",
       "      <td id=\"T_a7adc_row6_col2\" class=\"data row6 col2\" >13487.38</td>\n",
       "      <td id=\"T_a7adc_row6_col3\" class=\"data row6 col3\" >14626.76</td>\n",
       "      <td id=\"T_a7adc_row6_col4\" class=\"data row6 col4\" >10248.80</td>\n",
       "      <td id=\"T_a7adc_row6_col5\" class=\"data row6 col5\" >14843.02</td>\n",
       "    </tr>\n",
       "    <tr>\n",
       "      <td id=\"T_a7adc_row7_col0\" class=\"data row7 col0\" >q05</td>\n",
       "      <td id=\"T_a7adc_row7_col1\" class=\"data row7 col1\" >-15305.83</td>\n",
       "      <td id=\"T_a7adc_row7_col2\" class=\"data row7 col2\" >-14452.19</td>\n",
       "      <td id=\"T_a7adc_row7_col3\" class=\"data row7 col3\" >-15179.01</td>\n",
       "      <td id=\"T_a7adc_row7_col4\" class=\"data row7 col4\" >-10986.09</td>\n",
       "      <td id=\"T_a7adc_row7_col5\" class=\"data row7 col5\" >-14884.87</td>\n",
       "    </tr>\n",
       "    <tr>\n",
       "      <td id=\"T_a7adc_row8_col0\" class=\"data row8 col0\" >skew</td>\n",
       "      <td id=\"T_a7adc_row8_col1\" class=\"data row8 col1\" >-0.02</td>\n",
       "      <td id=\"T_a7adc_row8_col2\" class=\"data row8 col2\" >0.37</td>\n",
       "      <td id=\"T_a7adc_row8_col3\" class=\"data row8 col3\" >0.30</td>\n",
       "      <td id=\"T_a7adc_row8_col4\" class=\"data row8 col4\" >0.50</td>\n",
       "      <td id=\"T_a7adc_row8_col5\" class=\"data row8 col5\" >-0.33</td>\n",
       "    </tr>\n",
       "    <tr>\n",
       "      <td id=\"T_a7adc_row9_col0\" class=\"data row9 col0\" >kurt</td>\n",
       "      <td id=\"T_a7adc_row9_col1\" class=\"data row9 col1\" >12.10</td>\n",
       "      <td id=\"T_a7adc_row9_col2\" class=\"data row9 col2\" >8.13</td>\n",
       "      <td id=\"T_a7adc_row9_col3\" class=\"data row9 col3\" >6.18</td>\n",
       "      <td id=\"T_a7adc_row9_col4\" class=\"data row9 col4\" >15.53</td>\n",
       "      <td id=\"T_a7adc_row9_col5\" class=\"data row9 col5\" >18.38</td>\n",
       "    </tr>\n",
       "    <tr>\n",
       "      <td id=\"T_a7adc_row10_col0\" class=\"data row10 col0\" >sharpe</td>\n",
       "      <td id=\"T_a7adc_row10_col1\" class=\"data row10 col1\" >-0.61</td>\n",
       "      <td id=\"T_a7adc_row10_col2\" class=\"data row10 col2\" >-0.87</td>\n",
       "      <td id=\"T_a7adc_row10_col3\" class=\"data row10 col3\" >-0.54</td>\n",
       "      <td id=\"T_a7adc_row10_col4\" class=\"data row10 col4\" >-0.88</td>\n",
       "      <td id=\"T_a7adc_row10_col5\" class=\"data row10 col5\" >-0.44</td>\n",
       "    </tr>\n",
       "    <tr>\n",
       "      <td id=\"T_a7adc_row11_col0\" class=\"data row11 col0\" >ac1</td>\n",
       "      <td id=\"T_a7adc_row11_col1\" class=\"data row11 col1\" >-0.06</td>\n",
       "      <td id=\"T_a7adc_row11_col2\" class=\"data row11 col2\" >-0.05</td>\n",
       "      <td id=\"T_a7adc_row11_col3\" class=\"data row11 col3\" >-0.03</td>\n",
       "      <td id=\"T_a7adc_row11_col4\" class=\"data row11 col4\" >-0.05</td>\n",
       "      <td id=\"T_a7adc_row11_col5\" class=\"data row11 col5\" >-0.03</td>\n",
       "    </tr>\n",
       "    <tr>\n",
       "      <td id=\"T_a7adc_row12_col0\" class=\"data row12 col0\" >maxdd</td>\n",
       "      <td id=\"T_a7adc_row12_col1\" class=\"data row12 col1\" >736.63</td>\n",
       "      <td id=\"T_a7adc_row12_col2\" class=\"data row12 col2\" >883.73</td>\n",
       "      <td id=\"T_a7adc_row12_col3\" class=\"data row12 col3\" >681.35</td>\n",
       "      <td id=\"T_a7adc_row12_col4\" class=\"data row12 col4\" >682.91</td>\n",
       "      <td id=\"T_a7adc_row12_col5\" class=\"data row12 col5\" >674.96</td>\n",
       "    </tr>\n",
       "    <tr>\n",
       "      <td id=\"T_a7adc_row13_col0\" class=\"data row13 col0\" >cvar95</td>\n",
       "      <td id=\"T_a7adc_row13_col1\" class=\"data row13 col1\" >-11.74</td>\n",
       "      <td id=\"T_a7adc_row13_col2\" class=\"data row13 col2\" >-9.83</td>\n",
       "      <td id=\"T_a7adc_row13_col3\" class=\"data row13 col3\" >-10.65</td>\n",
       "      <td id=\"T_a7adc_row13_col4\" class=\"data row13 col4\" >-7.94</td>\n",
       "      <td id=\"T_a7adc_row13_col5\" class=\"data row13 col5\" >-12.50</td>\n",
       "    </tr>\n",
       "    <tr>\n",
       "      <td id=\"T_a7adc_row14_col0\" class=\"data row14 col0\" >count</td>\n",
       "      <td id=\"T_a7adc_row14_col1\" class=\"data row14 col1\" >7084.00</td>\n",
       "      <td id=\"T_a7adc_row14_col2\" class=\"data row14 col2\" >7787.00</td>\n",
       "      <td id=\"T_a7adc_row14_col3\" class=\"data row14 col3\" >7319.00</td>\n",
       "      <td id=\"T_a7adc_row14_col4\" class=\"data row14 col4\" >7832.00</td>\n",
       "      <td id=\"T_a7adc_row14_col5\" class=\"data row14 col5\" >7665.00</td>\n",
       "    </tr>\n",
       "  </tbody>\n",
       "</table>\n"
      ],
      "text/plain": [
       "<pandas.io.formats.style.Styler at 0x7fde4b7a21c0>"
      ]
     },
     "execution_count": 19,
     "metadata": {},
     "output_type": "execute_result"
    }
   ],
   "source": [
    "print(\"\\np_low (x2 leverage):\")\n",
    "format_dataframe(descriptives(rx.xs(\"p_low\", axis=1), ann=ann/t_hold, scl=100), tail=False)"
   ]
  },
  {
   "cell_type": "markdown",
   "id": "26b24ef8-5e7c-4716-baff-2c8c9f130a48",
   "metadata": {},
   "source": [
    "### carry trade performance"
   ]
  },
  {
   "cell_type": "markdown",
   "id": "932f733b-b2f2-47e6-bb0e-58d0b4e863c8",
   "metadata": {},
   "source": [
    "All currencies receive the same weight of 1/legsize if they are in the long, and -1/legsize or short portfolio. The excess return on a +1 long or -3 short position is calculated by dividing `sorts` which keeps 1.0s nad 0.0s through `legsize` and multiplying with the returns from the previous cell. The high-minus-low portfolio is the sum of the two (not the difference by the way the returns on short positions are calculated)."
   ]
  },
  {
   "cell_type": "code",
   "execution_count": 20,
   "id": "49f5b8f2",
   "metadata": {},
   "outputs": [
    {
     "data": {
      "text/html": [
       "<style type=\"text/css\">\n",
       "</style>\n",
       "<table id=\"T_0b9fc_\">\n",
       "  <thead>\n",
       "    <tr>\n",
       "      <th class=\"col_heading level0 col0\" >timestamp</th>\n",
       "      <th class=\"col_heading level0 col1\" >p_hml</th>\n",
       "      <th class=\"col_heading level0 col2\" >p_high</th>\n",
       "      <th class=\"col_heading level0 col3\" >p_low</th>\n",
       "    </tr>\n",
       "  </thead>\n",
       "  <tbody>\n",
       "    <tr>\n",
       "      <td id=\"T_0b9fc_row0_col0\" class=\"data row0 col0\" >2022-03-31 04:00</td>\n",
       "      <td id=\"T_0b9fc_row0_col1\" class=\"data row0 col1\" >0.01</td>\n",
       "      <td id=\"T_0b9fc_row0_col2\" class=\"data row0 col2\" >0.00</td>\n",
       "      <td id=\"T_0b9fc_row0_col3\" class=\"data row0 col3\" >0.01</td>\n",
       "    </tr>\n",
       "    <tr>\n",
       "      <td id=\"T_0b9fc_row1_col0\" class=\"data row1 col0\" >2022-03-31 08:00</td>\n",
       "      <td id=\"T_0b9fc_row1_col1\" class=\"data row1 col1\" >-0.00</td>\n",
       "      <td id=\"T_0b9fc_row1_col2\" class=\"data row1 col2\" >0.00</td>\n",
       "      <td id=\"T_0b9fc_row1_col3\" class=\"data row1 col3\" >-0.00</td>\n",
       "    </tr>\n",
       "    <tr>\n",
       "      <td id=\"T_0b9fc_row2_col0\" class=\"data row2 col0\" >2022-03-31 12:00</td>\n",
       "      <td id=\"T_0b9fc_row2_col1\" class=\"data row2 col1\" >0.05</td>\n",
       "      <td id=\"T_0b9fc_row2_col2\" class=\"data row2 col2\" >-0.05</td>\n",
       "      <td id=\"T_0b9fc_row2_col3\" class=\"data row2 col3\" >0.10</td>\n",
       "    </tr>\n",
       "    <tr>\n",
       "      <td id=\"T_0b9fc_row3_col0\" class=\"data row3 col0\" >2022-03-31 16:00</td>\n",
       "      <td id=\"T_0b9fc_row3_col1\" class=\"data row3 col1\" >0.01</td>\n",
       "      <td id=\"T_0b9fc_row3_col2\" class=\"data row3 col2\" >0.01</td>\n",
       "      <td id=\"T_0b9fc_row3_col3\" class=\"data row3 col3\" >0.00</td>\n",
       "    </tr>\n",
       "    <tr>\n",
       "      <td id=\"T_0b9fc_row4_col0\" class=\"data row4 col0\" >2022-03-31 20:00</td>\n",
       "      <td id=\"T_0b9fc_row4_col1\" class=\"data row4 col1\" >0.02</td>\n",
       "      <td id=\"T_0b9fc_row4_col2\" class=\"data row4 col2\" >0.02</td>\n",
       "      <td id=\"T_0b9fc_row4_col3\" class=\"data row4 col3\" >0.00</td>\n",
       "    </tr>\n",
       "  </tbody>\n",
       "</table>\n"
      ],
      "text/plain": [
       "<pandas.io.formats.style.Styler at 0x7fde382e7ee0>"
      ]
     },
     "execution_count": 20,
     "metadata": {},
     "output_type": "execute_result"
    }
   ],
   "source": [
    "# sort returns into portfolios according to the signal\n",
    "res_hl = rx.mul(sorts / legsize) \\\n",
    "    .groupby(axis=1, level=\"portfolio\").sum(min_count=1) \\\n",
    "    .loc[:, [\"p_high\", \"p_low\"]].dropna()\n",
    "\n",
    "# high minus low\n",
    "res_hl.insert(0, \"p_hml\", res_hl.eval(\"p_high + p_low\"))\n",
    "\n",
    "format_dataframe(res_hl)"
   ]
  },
  {
   "cell_type": "markdown",
   "id": "58c61811-fa8e-4c6c-bbf1-dfadbb2da604",
   "metadata": {},
   "source": [
    "Let's calculate the descriptives and plot the cumulative returns."
   ]
  },
  {
   "cell_type": "code",
   "execution_count": 21,
   "id": "e9cb9387",
   "metadata": {},
   "outputs": [
    {
     "data": {
      "text/html": [
       "<style type=\"text/css\">\n",
       "</style>\n",
       "<table id=\"T_b6a88_\">\n",
       "  <thead>\n",
       "    <tr>\n",
       "      <th class=\"col_heading level0 col0\" >index</th>\n",
       "      <th class=\"col_heading level0 col1\" >p_hml</th>\n",
       "      <th class=\"col_heading level0 col2\" >p_high</th>\n",
       "      <th class=\"col_heading level0 col3\" >p_low</th>\n",
       "    </tr>\n",
       "  </thead>\n",
       "  <tbody>\n",
       "    <tr>\n",
       "      <td id=\"T_b6a88_row0_col0\" class=\"data row0 col0\" >mean</td>\n",
       "      <td id=\"T_b6a88_row0_col1\" class=\"data row0 col1\" >175.14</td>\n",
       "      <td id=\"T_b6a88_row0_col2\" class=\"data row0 col2\" >217.75</td>\n",
       "      <td id=\"T_b6a88_row0_col3\" class=\"data row0 col3\" >-42.61</td>\n",
       "    </tr>\n",
       "    <tr>\n",
       "      <td id=\"T_b6a88_row1_col0\" class=\"data row1 col0\" >sterr</td>\n",
       "      <td id=\"T_b6a88_row1_col1\" class=\"data row1 col1\" >58.45</td>\n",
       "      <td id=\"T_b6a88_row1_col2\" class=\"data row1 col2\" >90.49</td>\n",
       "      <td id=\"T_b6a88_row1_col3\" class=\"data row1 col3\" >99.35</td>\n",
       "    </tr>\n",
       "    <tr>\n",
       "      <td id=\"T_b6a88_row2_col0\" class=\"data row2 col0\" >tstat</td>\n",
       "      <td id=\"T_b6a88_row2_col1\" class=\"data row2 col1\" >3.00</td>\n",
       "      <td id=\"T_b6a88_row2_col2\" class=\"data row2 col2\" >2.41</td>\n",
       "      <td id=\"T_b6a88_row2_col3\" class=\"data row2 col3\" >-0.43</td>\n",
       "    </tr>\n",
       "    <tr>\n",
       "      <td id=\"T_b6a88_row3_col0\" class=\"data row3 col0\" >median</td>\n",
       "      <td id=\"T_b6a88_row3_col1\" class=\"data row3 col1\" >171.78</td>\n",
       "      <td id=\"T_b6a88_row3_col2\" class=\"data row3 col2\" >87.18</td>\n",
       "      <td id=\"T_b6a88_row3_col3\" class=\"data row3 col3\" >0.00</td>\n",
       "    </tr>\n",
       "    <tr>\n",
       "      <td id=\"T_b6a88_row4_col0\" class=\"data row4 col0\" >std</td>\n",
       "      <td id=\"T_b6a88_row4_col1\" class=\"data row4 col1\" >114.27</td>\n",
       "      <td id=\"T_b6a88_row4_col2\" class=\"data row4 col2\" >175.44</td>\n",
       "      <td id=\"T_b6a88_row4_col3\" class=\"data row4 col3\" >190.63</td>\n",
       "    </tr>\n",
       "    <tr>\n",
       "      <td id=\"T_b6a88_row5_col0\" class=\"data row5 col0\" >dstd</td>\n",
       "      <td id=\"T_b6a88_row5_col1\" class=\"data row5 col1\" >88.66</td>\n",
       "      <td id=\"T_b6a88_row5_col2\" class=\"data row5 col2\" >142.65</td>\n",
       "      <td id=\"T_b6a88_row5_col3\" class=\"data row5 col3\" >133.66</td>\n",
       "    </tr>\n",
       "    <tr>\n",
       "      <td id=\"T_b6a88_row6_col0\" class=\"data row6 col0\" >q95</td>\n",
       "      <td id=\"T_b6a88_row6_col1\" class=\"data row6 col1\" >7534.00</td>\n",
       "      <td id=\"T_b6a88_row6_col2\" class=\"data row6 col2\" >12170.61</td>\n",
       "      <td id=\"T_b6a88_row6_col3\" class=\"data row6 col3\" >13198.35</td>\n",
       "    </tr>\n",
       "    <tr>\n",
       "      <td id=\"T_b6a88_row7_col0\" class=\"data row7 col0\" >q05</td>\n",
       "      <td id=\"T_b6a88_row7_col1\" class=\"data row7 col1\" >-7262.41</td>\n",
       "      <td id=\"T_b6a88_row7_col2\" class=\"data row7 col2\" >-11671.99</td>\n",
       "      <td id=\"T_b6a88_row7_col3\" class=\"data row7 col3\" >-13355.94</td>\n",
       "    </tr>\n",
       "    <tr>\n",
       "      <td id=\"T_b6a88_row8_col0\" class=\"data row8 col0\" >skew</td>\n",
       "      <td id=\"T_b6a88_row8_col1\" class=\"data row8 col1\" >0.42</td>\n",
       "      <td id=\"T_b6a88_row8_col2\" class=\"data row8 col2\" >-0.53</td>\n",
       "      <td id=\"T_b6a88_row8_col3\" class=\"data row8 col3\" >0.76</td>\n",
       "    </tr>\n",
       "    <tr>\n",
       "      <td id=\"T_b6a88_row9_col0\" class=\"data row9 col0\" >kurt</td>\n",
       "      <td id=\"T_b6a88_row9_col1\" class=\"data row9 col1\" >16.50</td>\n",
       "      <td id=\"T_b6a88_row9_col2\" class=\"data row9 col2\" >12.27</td>\n",
       "      <td id=\"T_b6a88_row9_col3\" class=\"data row9 col3\" >9.57</td>\n",
       "    </tr>\n",
       "    <tr>\n",
       "      <td id=\"T_b6a88_row10_col0\" class=\"data row10 col0\" >sharpe</td>\n",
       "      <td id=\"T_b6a88_row10_col1\" class=\"data row10 col1\" >1.53</td>\n",
       "      <td id=\"T_b6a88_row10_col2\" class=\"data row10 col2\" >1.24</td>\n",
       "      <td id=\"T_b6a88_row10_col3\" class=\"data row10 col3\" >-0.22</td>\n",
       "    </tr>\n",
       "    <tr>\n",
       "      <td id=\"T_b6a88_row11_col0\" class=\"data row11 col0\" >ac1</td>\n",
       "      <td id=\"T_b6a88_row11_col1\" class=\"data row11 col1\" >-0.06</td>\n",
       "      <td id=\"T_b6a88_row11_col2\" class=\"data row11 col2\" >-0.05</td>\n",
       "      <td id=\"T_b6a88_row11_col3\" class=\"data row11 col3\" >-0.03</td>\n",
       "    </tr>\n",
       "    <tr>\n",
       "      <td id=\"T_b6a88_row12_col0\" class=\"data row12 col0\" >maxdd</td>\n",
       "      <td id=\"T_b6a88_row12_col1\" class=\"data row12 col1\" >147.25</td>\n",
       "      <td id=\"T_b6a88_row12_col2\" class=\"data row12 col2\" >167.79</td>\n",
       "      <td id=\"T_b6a88_row12_col3\" class=\"data row12 col3\" >532.35</td>\n",
       "    </tr>\n",
       "    <tr>\n",
       "      <td id=\"T_b6a88_row13_col0\" class=\"data row13 col0\" >cvar95</td>\n",
       "      <td id=\"T_b6a88_row13_col1\" class=\"data row13 col1\" >-5.80</td>\n",
       "      <td id=\"T_b6a88_row13_col2\" class=\"data row13 col2\" >-9.14</td>\n",
       "      <td id=\"T_b6a88_row13_col3\" class=\"data row13 col3\" >-9.31</td>\n",
       "    </tr>\n",
       "    <tr>\n",
       "      <td id=\"T_b6a88_row14_col0\" class=\"data row14 col0\" >count</td>\n",
       "      <td id=\"T_b6a88_row14_col1\" class=\"data row14 col1\" >7829.00</td>\n",
       "      <td id=\"T_b6a88_row14_col2\" class=\"data row14 col2\" >7829.00</td>\n",
       "      <td id=\"T_b6a88_row14_col3\" class=\"data row14 col3\" >7829.00</td>\n",
       "    </tr>\n",
       "  </tbody>\n",
       "</table>\n"
      ],
      "text/plain": [
       "<pandas.io.formats.style.Styler at 0x7fde9031ae50>"
      ]
     },
     "execution_count": 21,
     "metadata": {},
     "output_type": "execute_result"
    }
   ],
   "source": [
    "# means, st err etc.\n",
    "rx_d = descriptives(res_hl, ann=(ann / t_hold), scl=100)\n",
    "\n",
    "format_dataframe(rx_d, tail=False)"
   ]
  },
  {
   "cell_type": "code",
   "execution_count": 22,
   "id": "690d0bad",
   "metadata": {},
   "outputs": [
    {
     "data": {
      "image/png": "[encoded data removed]",
      "text/plain": [
       "<Figure size 432x288 with 1 Axes>"
      ]
     },
     "metadata": {
      "needs_background": "light"
     },
     "output_type": "display_data"
    }
   ],
   "source": [
    "# plot\n",
    "to_plot = res_hl.cumsum()\\\n",
    "    .rename(columns=lambda x: x[2:])\\\n",
    "    .reset_index().melt(id_vars=[\"timestamp\"], value_name=\"payoff\")\n",
    "ax = sns.lineplot(x=\"timestamp\", y=\"payoff\", data=to_plot, hue=\"portfolio\")\n",
    "\n",
    "ax.xaxis.set_major_locator(YearLocator(1))\n",
    "ax.xaxis.set_minor_locator(MonthLocator([1, 4, 7, 10]))\n",
    "ax.xaxis.set_major_formatter(DateFormatter(\"%Y\"))\n",
    "ax.xaxis.set_minor_formatter(DateFormatter(\"%b\"))\n",
    "ax.grid(True, which=\"both\")\n",
    "\n",
    "ax.set_xlabel(\"\", visible=False)\n",
    "ax.set_ylabel(\"payoff w/o reinvestment, in USD\")\n",
    "\n",
    "plt.show()"
   ]
  },
  {
   "cell_type": "markdown",
   "id": "20df45ea-0cd8-4af1-979e-4d8b0802f422",
   "metadata": {},
   "source": [
    "The long portfolio over- and the short one underperforms. The high-low strategy has earned about 600% return (w/o reinvestment) since end of september 2019, with a Sharpe ratio of 1.5."
   ]
  },
  {
   "cell_type": "markdown",
   "id": "b099e015-c901-46ab-bb23-641fc9a9bd96",
   "metadata": {},
   "source": [
    "</walkthrough>"
   ]
  }
 ],
 "metadata": {
  "kernelspec": {
   "display_name": ".venv",
   "language": "python",
   "name": "python3"
  },
  "language_info": {
   "codemirror_mode": {
    "name": "ipython",
    "version": 3
   },
   "file_extension": ".py",
   "mimetype": "text/x-python",
   "name": "python",
   "nbconvert_exporter": "python",
   "pygments_lexer": "ipython3",
   "version": "3.10.10"
  }
 },
 "nbformat": 4,
 "nbformat_minor": 5
}
